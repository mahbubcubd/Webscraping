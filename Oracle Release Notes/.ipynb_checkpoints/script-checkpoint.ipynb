{
 "cells": [
  {
   "cell_type": "code",
   "execution_count": 1,
   "metadata": {},
   "outputs": [],
   "source": [
    "import sys\n",
    "import pandas as pd\n",
    "import requests as rq\n",
    "from bs4 import BeautifulSoup as BS\n",
    "import dateparser as dp"
   ]
  },
  {
   "cell_type": "code",
   "execution_count": 2,
   "metadata": {},
   "outputs": [],
   "source": [
    "# Setup \n",
    "\n",
    "base_url=\"https://docs.cloud.oracle.com/en-us/iaas/releasenotes\"\n",
    "homepage=rq.get(base_url).content\n",
    "soup=BS(homepage,'html.parser')\n",
    "pages = int(soup.findAll(\"span\", {\"class\": \"page-current\"})[0].text.split('of')[1].split('\\n')[0].strip())\n",
    "urls = [base_url+'/?page='+str(x) for x in range(1,pages)]\n",
    "urls.insert(0,base_url)\n",
    "dataset=[]\n",
    "filename='oracle-release.csv'"
   ]
  },
  {
   "cell_type": "code",
   "execution_count": 3,
   "metadata": {},
   "outputs": [
    {
     "name": "stdout",
     "output_type": "stream",
     "text": [
      "++++++++++++++++++++Initiating Scraping+++++++++++++++++++++\n",
      "\n",
      "\n",
      "Progress: [ ==============================>100% ]\n",
      "Creating dataframe....Ok\n",
      "Exporting CSV oracle-release.csv....done\n"
     ]
    }
   ],
   "source": [
    "print(\"Initiating Scraping\".center(60,'+'))\n",
    "print(\"\\n\")\n",
    "progress=0\n",
    "for url in urls:\n",
    "    page=BS(rq.get(url).content,'html.parser').findAll(\"article\")\n",
    "    data=[\n",
    "        dict(\n",
    "            release_date=dp.parse(x.find(\"ul\").findAll(\"li\")[1].text.split(\":\")[1].strip()),\n",
    "            release_note=x.find(\"h3\").text,\n",
    "            services=x.find(\"ul\").findAll(\"li\")[0].text.split(\":\")[1].strip(),\n",
    "            release_description=x.find(\"div\", {\"class\" : \"uk-panel vl-content\"}).text.replace(\"\\n\\n\",\" \").replace(\"\\n\",\", \")\n",
    "        ) for x in page\n",
    "    ]\n",
    "    dataset+=data\n",
    "    progress+=1\n",
    "    cnt=int(progress*100/pages)\n",
    "    sys.stdout.write(\"\\r\" + \"Progress: [ \" + \"===\"*int(cnt/10) + \">\" + str(cnt) +\"% ]\")\n",
    "    sys.stdout.flush()\n",
    "print(\"\")\n",
    "print(\"Creating dataframe....\",end='')\n",
    "df=pd.DataFrame(dataset)\n",
    "print(\"Ok\")\n",
    "print(\"Exporting CSV {}....\".format(filename),end='')\n",
    "df.to_csv(filename,index=False)\n",
    "print(\"done\")"
   ]
  },
  {
   "cell_type": "code",
   "execution_count": 4,
   "metadata": {},
   "outputs": [
    {
     "data": {
      "text/html": [
       "<div>\n",
       "<style scoped>\n",
       "    .dataframe tbody tr th:only-of-type {\n",
       "        vertical-align: middle;\n",
       "    }\n",
       "\n",
       "    .dataframe tbody tr th {\n",
       "        vertical-align: top;\n",
       "    }\n",
       "\n",
       "    .dataframe thead th {\n",
       "        text-align: right;\n",
       "    }\n",
       "</style>\n",
       "<table border=\"1\" class=\"dataframe\">\n",
       "  <thead>\n",
       "    <tr style=\"text-align: right;\">\n",
       "      <th></th>\n",
       "      <th>release_date</th>\n",
       "      <th>release_note</th>\n",
       "      <th>services</th>\n",
       "      <th>release_description</th>\n",
       "    </tr>\n",
       "  </thead>\n",
       "  <tbody>\n",
       "    <tr>\n",
       "      <th>0</th>\n",
       "      <td>2020-05-01</td>\n",
       "      <td>Oracle NoSQL Database Cloud now available in n...</td>\n",
       "      <td>Oracle NoSQL Database Cloud</td>\n",
       "      <td>Oracle NoSQL Database Cloud is now available i...</td>\n",
       "    </tr>\n",
       "    <tr>\n",
       "      <th>1</th>\n",
       "      <td>2020-05-01</td>\n",
       "      <td>Data Catalog is now available in the Saudi Ara...</td>\n",
       "      <td>Data Catalog, Oracle Cloud Infrastructure</td>\n",
       "      <td>Data Catalog is now available in the Saudi Ara...</td>\n",
       "    </tr>\n",
       "    <tr>\n",
       "      <th>2</th>\n",
       "      <td>2020-04-30</td>\n",
       "      <td>New region in Hyderabad, India</td>\n",
       "      <td>Oracle Cloud Infrastructure</td>\n",
       "      <td>A region in Hyderabad, India is now available....</td>\n",
       "    </tr>\n",
       "    <tr>\n",
       "      <th>3</th>\n",
       "      <td>2020-04-30</td>\n",
       "      <td>Improvements to the Notebook Session Environment</td>\n",
       "      <td>Data Science, Oracle Cloud Infrastructure</td>\n",
       "      <td>The Notebook Session environment includes the ...</td>\n",
       "    </tr>\n",
       "    <tr>\n",
       "      <th>4</th>\n",
       "      <td>2020-04-29</td>\n",
       "      <td>Exadata DB system grid infrastructure and data...</td>\n",
       "      <td>Database</td>\n",
       "      <td>You can now patch an Exadata DB system's grid ...</td>\n",
       "    </tr>\n",
       "  </tbody>\n",
       "</table>\n",
       "</div>"
      ],
      "text/plain": [
       "  release_date                                       release_note  \\\n",
       "0   2020-05-01  Oracle NoSQL Database Cloud now available in n...   \n",
       "1   2020-05-01  Data Catalog is now available in the Saudi Ara...   \n",
       "2   2020-04-30                     New region in Hyderabad, India   \n",
       "3   2020-04-30   Improvements to the Notebook Session Environment   \n",
       "4   2020-04-29  Exadata DB system grid infrastructure and data...   \n",
       "\n",
       "                                    services  \\\n",
       "0                Oracle NoSQL Database Cloud   \n",
       "1  Data Catalog, Oracle Cloud Infrastructure   \n",
       "2                Oracle Cloud Infrastructure   \n",
       "3  Data Science, Oracle Cloud Infrastructure   \n",
       "4                                   Database   \n",
       "\n",
       "                                 release_description  \n",
       "0  Oracle NoSQL Database Cloud is now available i...  \n",
       "1  Data Catalog is now available in the Saudi Ara...  \n",
       "2  A region in Hyderabad, India is now available....  \n",
       "3  The Notebook Session environment includes the ...  \n",
       "4  You can now patch an Exadata DB system's grid ...  "
      ]
     },
     "execution_count": 4,
     "metadata": {},
     "output_type": "execute_result"
    }
   ],
   "source": [
    "pd.read_csv(filename).head()"
   ]
  }
 ],
 "metadata": {
  "kernelspec": {
   "display_name": "Python 3",
   "language": "python",
   "name": "python3"
  },
  "language_info": {
   "codemirror_mode": {
    "name": "ipython",
    "version": 3
   },
   "file_extension": ".py",
   "mimetype": "text/x-python",
   "name": "python",
   "nbconvert_exporter": "python",
   "pygments_lexer": "ipython3",
   "version": "3.7.5"
  }
 },
 "nbformat": 4,
 "nbformat_minor": 4
}
