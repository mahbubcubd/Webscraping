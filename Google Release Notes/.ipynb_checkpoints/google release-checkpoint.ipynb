{
 "cells": [
  {
   "cell_type": "code",
   "execution_count": 1,
   "metadata": {},
   "outputs": [],
   "source": [
    "import pandas as pd\n",
    "import requests as rq\n",
    "from bs4 import BeautifulSoup as BS\n",
    "import xmltodict"
   ]
  },
  {
   "cell_type": "code",
   "execution_count": 2,
   "metadata": {},
   "outputs": [],
   "source": [
    "# Getting Parent URL\n",
    "url=\"https://cloud.google.com/release-notes/all\"\n",
    "page=rq.get(url).content\n",
    "soup=BS(page,'html.parser')\n",
    "services = soup.findAll(\"li\", {\"class\": \"release-note-sitemap-card-item\"})"
   ]
  },
  {
   "cell_type": "code",
   "execution_count": 3,
   "metadata": {},
   "outputs": [
    {
     "output_type": "execute_result",
     "data": {
      "text/plain": "                                        name  \\\n0                    AutoML Natural Language   \n1                              AutoML Tables   \n2                         AutoML Translation   \n3   AutoML Video Intelligence Classification   \n4  AutoML Video Intelligence Object Tracking   \n\n                                                 url  \n0  https://cloud.google.com/automl-tables/docs/re...  \n1  https://cloud.google.com/natural-language/auto...  \n2  https://cloud.google.com/translate/automl/docs...  \n3  https://cloud.google.com/video-intelligence/au...  \n4  https://cloud.google.com/video-intelligence/au...  ",
      "text/html": "<div>\n<style scoped>\n    .dataframe tbody tr th:only-of-type {\n        vertical-align: middle;\n    }\n\n    .dataframe tbody tr th {\n        vertical-align: top;\n    }\n\n    .dataframe thead th {\n        text-align: right;\n    }\n</style>\n<table border=\"1\" class=\"dataframe\">\n  <thead>\n    <tr style=\"text-align: right;\">\n      <th></th>\n      <th>name</th>\n      <th>url</th>\n    </tr>\n  </thead>\n  <tbody>\n    <tr>\n      <th>0</th>\n      <td>AutoML Natural Language</td>\n      <td>https://cloud.google.com/automl-tables/docs/re...</td>\n    </tr>\n    <tr>\n      <th>1</th>\n      <td>AutoML Tables</td>\n      <td>https://cloud.google.com/natural-language/auto...</td>\n    </tr>\n    <tr>\n      <th>2</th>\n      <td>AutoML Translation</td>\n      <td>https://cloud.google.com/translate/automl/docs...</td>\n    </tr>\n    <tr>\n      <th>3</th>\n      <td>AutoML Video Intelligence Classification</td>\n      <td>https://cloud.google.com/video-intelligence/au...</td>\n    </tr>\n    <tr>\n      <th>4</th>\n      <td>AutoML Video Intelligence Object Tracking</td>\n      <td>https://cloud.google.com/video-intelligence/au...</td>\n    </tr>\n  </tbody>\n</table>\n</div>"
     },
     "metadata": {},
     "execution_count": 3
    }
   ],
   "source": [
    "root_url=\"https://cloud.google.com\"\n",
    "url_pack=[dict(name=i.find(\"h3\").text,url=root_url+i.find(\"a\")[\"href\"]) for i in services]\n",
    "df=pd.DataFrame(url_pack)\n",
    "df.to_csv(\"release-pages.csv\", index=False)\n",
    "\n",
    "try:\n",
    "    links=pd.read_csv(\"cache_url.csv\")\n",
    "    cache_url=list(links['url'])\n",
    "except:\n",
    "    cache_url=[]\n",
    "df.head()"
   ]
  },
  {
   "cell_type": "code",
   "execution_count": 4,
   "metadata": {},
   "outputs": [],
   "source": [
    "def get_xml_links(col):\n",
    "    if col in cache_url:\n",
    "        get_url=links[links['url']==col]\n",
    "        xml_url=list(get_url['xml_url'])[0]\n",
    "    else:\n",
    "        su=BS(rq.get(col).content,'html.parser')\n",
    "        try:\n",
    "            xml_url= su.find(\"section\",{\"class\": \"xml\"}).find(\"code\").text\n",
    "            xml_url=xml_url.replace(\"\\n\",\"\")\n",
    "        except Exception as e:\n",
    "            print(\"Error for \", col)\n",
    "            xml_url=\"no_xml_link\"\n",
    "    return xml_url"
   ]
  },
  {
   "cell_type": "code",
   "execution_count": 5,
   "metadata": {},
   "outputs": [
    {
     "output_type": "stream",
     "name": "stdout",
     "text": "Error for  https://cloud.google.com/ai-platform/data-labeling/docs/release-notes\nError for  https://cloud.google.com/ai-platform/data-labeling/docs/release-notes\nError for  https://cloud.google.com/container-optimized-os/docs/release-notes\nError for  https://cloud.google.com/sdk/docs/release-notes\nError for  https://cloud.google.com/event-threat-detection/docs/release-notes\n"
    }
   ],
   "source": [
    "df[\"xml_url\"]=df.url.apply(get_xml_links)"
   ]
  },
  {
   "cell_type": "code",
   "execution_count": 6,
   "metadata": {},
   "outputs": [],
   "source": [
    "df.to_csv(\"cache_url.csv\",index=False)"
   ]
  },
  {
   "cell_type": "code",
   "execution_count": 8,
   "metadata": {},
   "outputs": [],
   "source": [
    "xml_df=df[df[\"xml_url\"]!=\"no_xml_link\"]"
   ]
  },
  {
   "cell_type": "code",
   "execution_count": 9,
   "metadata": {},
   "outputs": [],
   "source": [
    "def get_xml_data(row):\n",
    "    print(\"working on link...  \",row)\n",
    "    dataset=[]\n",
    "    if row!=\"no_xml_link\":\n",
    "        try:\n",
    "            docs=xmltodict.parse(rq.get(row).content)['feed']['entry']\n",
    "            print(\"Entry pass\")\n",
    "            try:\n",
    "                contents=docs[\"content\"]\n",
    "                c_soup=BS(contents[\"#text\"],'html.parser')\n",
    "                try:\n",
    "                    status=c_soup.findAll(\"h3\").text\n",
    "                except:\n",
    "                    try:\n",
    "                        status=c_soup.find(\"h3\").text\n",
    "                    except:\n",
    "                        status=''\n",
    "                description=c_soup.text\n",
    "                data= dict(release_date=docs['title'],content=contents, status=status, description=description)\n",
    "                dataset.append(data)\n",
    "            except:\n",
    "                for i in docs:\n",
    "                    try:\n",
    "                        contents=i[\"content\"]\n",
    "                        c_soup=BS(contents[\"#text\"],'html.parser')\n",
    "                        try:\n",
    "                            status=c_soup.findAll(\"h3\").text\n",
    "                        except:\n",
    "                            try:\n",
    "                                status=c_soup.find(\"h3\").text\n",
    "                            except:\n",
    "                                status=''\n",
    "                        description=c_soup.text\n",
    "                        data= dict(release_date=i['title'],content=contents, status=status, description=description)\n",
    "                        dataset.append(data)\n",
    "                    except Exception as e:\n",
    "                        print(\"Error \", e)            \n",
    "        except Exception as e:\n",
    "            print(\"xml parsing err\", row)\n",
    "    if len(dataset)==0:\n",
    "        dataset=\"corrupted\"\n",
    "    return dataset\n"
   ]
  },
  {
   "cell_type": "code",
   "execution_count": 10,
   "metadata": {},
   "outputs": [
    {
     "output_type": "stream",
     "name": "stdout",
     "text": "working on link...   https://cloud.google.com/feeds/automl-tables-release-notes.xml\nEntry pass\nworking on link...   https://cloud.google.com/feeds/automl-language-release-notes.xml\nEntry pass\nworking on link...   https://cloud.google.com/feeds/automl-translate-release-notes.xml\nEntry pass\nworking on link...   https://cloud.google.com/feeds/automl-video-intelligence-classification-release-notes.xml\nEntry pass\nworking on link...   https://cloud.google.com/feeds/automl-video-intelligence-object-tracking-release-notes.xml\nEntry pass\nworking on link...   https://cloud.google.com/feeds/automl-vision-release-notes.xml\nEntry pass\nworking on link...   https://cloud.google.com/feeds/automl-vision-object-detection-release-notes.xml\nEntry pass\nworking on link...   https://cloud.google.com/feeds/vision-release-notes.xml\nEntry pass\nworking on link...   https://cloud.google.com/feeds/visionproductsearch-release-notes.xml\nEntry pass\nworking on link...   https://cloud.google.com/feeds/video-release-notes.xml\nEntry pass\nworking on link...   https://cloud.google.com/feeds/language-release-notes.xml\nEntry pass\nworking on link...   https://cloud.google.com/feeds/translate-release-notes.xml\nEntry pass\nworking on link...   https://cloud.google.com/feeds/tts-release-notes.xml\nEntry pass\nworking on link...   https://cloud.google.com/feeds/speech-release-notes.xml\nEntry pass\nworking on link...   https://cloud.google.com/feeds/dialogflow-release-notes.xml\nEntry pass\nworking on link...   no_xml_link\nworking on link...   https://cloud.google.com/feeds/automl-recommendation-release-notes.xml\nEntry pass\nworking on link...   https://cloud.google.com/feeds/aiplatform-release-notes.xml\nEntry pass\nworking on link...   https://cloud.google.com/feeds/deeplearningvm-release-notes.xml\nEntry pass\nworking on link...   no_xml_link\nworking on link...   https://cloud.google.com/feeds/aiplatformdeeplearningcontainers-release-notes.xml\nEntry pass\nworking on link...   https://cloud.google.com/feeds/aiplatformnotebooks-release-notes.xml\nEntry pass\nworking on link...   https://cloud.google.com/feeds/ai-platform-pipelines-release-notes.xml\nEntry pass\nworking on link...   https://cloud.google.com/feeds/ai-platform-prediction-release-notes.xml\nEntry pass\nworking on link...   https://cloud.google.com/feeds/ai-platform-training-release-notes.xml\nEntry pass\nworking on link...   https://cloud.google.com/feeds/aihub-release-notes.xml\nEntry pass\nworking on link...   https://cloud.google.com/feeds/compute-release-notes.xml\nEntry pass\nworking on link...   https://cloud.google.com/feeds/tpu-release-notes.xml\nEntry pass\nworking on link...   https://cloud.google.com/feeds/tensorflowenterprise-release-notes.xml\nEntry pass\nworking on link...   https://cloud.google.com/feeds/cloud-endpoints-release-notes.xml\nEntry pass\nworking on link...   https://cloud.google.com/feeds/cloud-healthcare-release-notes.xml\nxml parsing err https://cloud.google.com/feeds/cloud-healthcare-release-notes.xml\nworking on link...   https://cloud.google.com/feeds/compute-release-notes.xml\nEntry pass\nworking on link...   https://cloud.google.com/feeds/app-engine-admin-api-release-notes.xml\nEntry pass\nworking on link...   https://cloud.google.com/feeds/gaeflex-net-release-notes.xml\nEntry pass\nworking on link...   https://cloud.google.com/feeds/gaeflexiblecustomruntimes-release-notes.xml\nEntry pass\nworking on link...   https://cloud.google.com/feeds/gaeflex-go-release-notes.xml\nEntry pass\nworking on link...   https://cloud.google.com/feeds/gaeflex-java-release-notes.xml\nEntry pass\nworking on link...   https://cloud.google.com/feeds/gaeflex-node-release-notes.xml\nEntry pass\nworking on link...   https://cloud.google.com/feeds/gaeflex-php-release-notes.xml\nEntry pass\nworking on link...   https://cloud.google.com/feeds/gaeflex-py-release-notes.xml\nEntry pass\nworking on link...   https://cloud.google.com/feeds/gaeflex-ruby-release-notes.xml\nEntry pass\nworking on link...   https://cloud.google.com/feeds/gaestd-go-release-notes.xml\nEntry pass\nworking on link...   https://cloud.google.com/feeds/gaestd-java-release-notes.xml\nEntry pass\nworking on link...   https://cloud.google.com/feeds/gaestd-node-release-notes.xml\nEntry pass\nworking on link...   https://cloud.google.com/feeds/gaestd-php-release-notes.xml\nEntry pass\nworking on link...   https://cloud.google.com/feeds/gaestd-py-release-notes.xml\nEntry pass\nworking on link...   https://cloud.google.com/feeds/gaestd-ruby-release-notes.xml\nEntry pass\nworking on link...   https://cloud.google.com/feeds/compute-release-notes.xml\nEntry pass\nworking on link...   https://cloud.google.com/feeds/migrate-for-compute-engine-release-notes.xml\nEntry pass\nworking on link...   https://cloud.google.com/feeds/kubernetes-engine-release-notes.xml\nEntry pass\nworking on link...   https://cloud.google.com/feeds/container-registry-release-notes.xml\nEntry pass\nworking on link...   https://cloud.google.com/feeds/cloudbuild-release-notes.xml\nEntry pass\nworking on link...   https://cloud.google.com/feeds/aiplatformdeeplearningcontainers-release-notes.xml\nEntry pass\nworking on link...   no_xml_link\nworking on link...   https://cloud.google.com/feeds/bigquery-release-notes.xml\nEntry pass\nworking on link...   https://cloud.google.com/feeds/composer-release-notes.xml\nEntry pass\nworking on link...   https://cloud.google.com/feeds/dataflow-release-notes.xml\nEntry pass\nworking on link...   https://cloud.google.com/feeds/clouddatafusion-release-notes.xml\nEntry pass\nworking on link...   https://cloud.google.com/feeds/dataprep-release-notes.xml\nEntry pass\nworking on link...   https://cloud.google.com/feeds/dataproc-release-notes.xml\nEntry pass\nworking on link...   https://cloud.google.com/feeds/pubsub-release-notes.xml\nEntry pass\nworking on link...   https://cloud.google.com/feeds/data-catalog-release-notes.xml\nEntry pass\nworking on link...   https://cloud.google.com/feeds/cloud-life-sciences-release-notes.xml\nEntry pass\nworking on link...   https://cloud.google.com/feeds/bigtable-release-notes.xml\nEntry pass\nworking on link...   https://cloud.google.com/feeds/fs-release-notes.xml\nEntry pass\nworking on link...   https://cloud.google.com/feeds/memorystorememcache-release-notes.xml\nEntry pass\nworking on link...   https://cloud.google.com/feeds/memorystore-release-notes.xml\nEntry pass\nworking on link...   https://cloud.google.com/feeds/spanner-release-notes.xml\nEntry pass\nworking on link...   https://cloud.google.com/feeds/cloud-sql-mysql-release-notes.xml\nEntry pass\nworking on link...   https://cloud.google.com/feeds/cloud-sql-postgres-release-notes.xml\nEntry pass\nworking on link...   https://cloud.google.com/feeds/cloud-sql-server-release-notes.xml\nEntry pass\nworking on link...   https://cloud.google.com/feeds/datastore-release-notes.xml\nEntry pass\nworking on link...   https://cloud.google.com/feeds/artifactregistry-release-notes.xml\nEntry pass\nworking on link...   no_xml_link\nworking on link...   https://cloud.google.com/feeds/container-registry-release-notes.xml\nEntry pass\nworking on link...   https://cloud.google.com/feeds/cloudbuild-release-notes.xml\nEntry pass\nworking on link...   https://cloud.google.com/feeds/cloud-source-repositories-release-notes.xml\nEntry pass\nworking on link...   https://cloud.google.com/feeds/cloudscheduler-release-notes.xml\nEntry pass\nworking on link...   https://cloud.google.com/feeds/cloud-tasks-release-notes.xml\nEntry pass\nworking on link...   https://cloud.google.com/feeds/cloud-code-for-intellij-release-notes.xml\nEntry pass\nworking on link...   https://cloud.google.com/feeds/cloud-tools-for-powershell-release-notes.md\nxml parsing err https://cloud.google.com/feeds/cloud-tools-for-powershell-release-notes.md\nworking on link...   https://cloud.google.com/feeds/cloud-tools-for-visual-studio-release-notes.md\nxml parsing err https://cloud.google.com/feeds/cloud-tools-for-visual-studio-release-notes.md\nworking on link...   https://cloud.google.com/feeds/eclipse-release-notes.xml\nEntry pass\nworking on link...   https://cloud.google.com/feeds/cloud-life-sciences-release-notes.xml\nEntry pass\nworking on link...   https://cloud.google.com/feeds/cloud-healthcare-release-notes.xml\nxml parsing err https://cloud.google.com/feeds/cloud-healthcare-release-notes.xml\nworking on link...   https://cloud.google.com/feeds/anthos-release-notes.xml\nEntry pass\nworking on link...   https://cloud.google.com/feeds/gkeonprem-release-notes.xml\nEntry pass\nworking on link...   https://cloud.google.com/feeds/anthos-config-management-release-notes.xml\nEntry pass\nworking on link...   https://cloud.google.com/feeds/servicemesh-release-notes.xml\nEntry pass\nworking on link...   https://cloud.google.com/feeds/configconnector-release-notes.xml\nEntry pass\nworking on link...   https://cloud.google.com/feeds/runanthos-release-notes.xml\nEntry pass\nworking on link...   https://cloud.google.com/feeds/gcpmarketplace-release-notes.xml\nEntry pass\nworking on link...   https://cloud.google.com/feeds/migrateanthos-release-notes.xml\nEntry pass\nworking on link...   https://cloud.google.com/feeds/cloudbuild-release-notes.xml\nEntry pass\nworking on link...   https://cloud.google.com/feeds/trafficdirector-release-notes.xml\nEntry pass\nworking on link...   https://cloud.google.com/feeds/iot-release-notes.xml\nEntry pass\nworking on link...   https://cloud.google.com/feeds/private-catalog-release-notes.xml\nEntry pass\nworking on link...   https://cloud.google.com/feeds/deploymentmanager-release-notes.xml\nEntry pass\nworking on link...   https://cloud.google.com/feeds/servicemesh-release-notes.xml\nEntry pass\nworking on link...   https://cloud.google.com/feeds/billing-release-notes.xml\nEntry pass\nworking on link...   https://cloud.google.com/feeds/cloud-game-servers-release-notes.xml\nEntry pass\nworking on link...   https://cloud.google.com/feeds/bigquerydatatransfer-release-notes.xml\nEntry pass\nworking on link...   https://cloud.google.com/feeds/transferappliance-2.0-release-notes.xml\nEntry pass\nworking on link...   https://cloud.google.com/feeds/storagetransfer-release-notes.xml\nEntry pass\nworking on link...   https://cloud.google.com/feeds/migrateanthos-release-notes.xml\nEntry pass\nworking on link...   https://cloud.google.com/feeds/migrate-for-compute-engine-release-notes.xml\nEntry pass\nworking on link...   https://cloud.google.com/feeds/transferappliance-2.0-release-notes.xml\nEntry pass\nworking on link...   https://cloud.google.com/feeds/armor-release-notes.xml\nEntry pass\nworking on link...   https://cloud.google.com/feeds/cloudcdn-release-notes.xml\nEntry pass\nworking on link...   https://cloud.google.com/feeds/dns-release-notes.xml\nEntry pass\nworking on link...   https://cloud.google.com/feeds/cloudloadbalancing-release-notes.xml\nEntry pass\nworking on link...   https://cloud.google.com/feeds/cloudnat-release-notes.xml\nEntry pass\nworking on link...   https://cloud.google.com/feeds/cloudinterconnect-release-notes.xml\nEntry pass\nworking on link...   https://cloud.google.com/feeds/networkintelligence-release-notes.xml\nEntry pass\nworking on link...   https://cloud.google.com/feeds/networkservicetiers-release-notes.xml\nEntry pass\nworking on link...   https://cloud.google.com/feeds/trafficdirector-release-notes.xml\nEntry pass\nworking on link...   https://cloud.google.com/feeds/vpc-release-notes.xml\nEntry pass\nworking on link...   https://cloud.google.com/feeds/cloudrouter-release-notes.xml\nEntry pass\nworking on link...   https://cloud.google.com/feeds/cloudvpn-release-notes.xml\nEntry pass\nworking on link...   https://cloud.google.com/feeds/stackdriver-release-notes.xml\nEntry pass\nworking on link...   https://cloud.google.com/feeds/stackdriver-release-notes.xml\nEntry pass\nworking on link...   https://cloud.google.com/feeds/stackdriver-release-notes.xml\nEntry pass\nworking on link...   https://cloud.google.com/feeds/stackdriver-release-notes.xml\nEntry pass\nworking on link...   https://cloud.google.com/feeds/stackdriver-release-notes.xml\nEntry pass\nworking on link...   https://cloud.google.com/feeds/stackdriver-release-notes.xml\nEntry pass\nworking on link...   https://cloud.google.com/feeds/stackdriver-release-notes.xml\nEntry pass\nworking on link...   https://cloud.google.com/feeds/binary-auth-release-notes.xml\nEntry pass\nworking on link...   https://cloud.google.com/feeds/asset-release-notes.xml\nEntry pass\nworking on link...   https://cloud.google.com/feeds/dlp-release-notes.xml\nEntry pass\nworking on link...   https://cloud.google.com/feeds/kms-release-notes.xml\nEntry pass\nworking on link...   https://cloud.google.com/feeds/scc-release-notes.xml\nEntry pass\nworking on link...   https://cloud.google.com/feeds/websecurityscanner-release-notes.xml\nEntry pass\nworking on link...   no_xml_link\nworking on link...   https://cloud.google.com/feeds/vpc-sc-release-notes.xml\nEntry pass\nworking on link...   https://cloud.google.com/feeds/secret-manager-release-notes.xml\nEntry pass\nworking on link...   https://cloud.google.com/feeds/iam-release-notes.xml\nEntry pass\nworking on link...   https://cloud.google.com/feeds/cloudidentity-release-notes.xml\nEntry pass\nworking on link...   https://cloud.google.com/feeds/iap-release-notes.xml\nEntry pass\nworking on link...   https://cloud.google.com/feeds/endpointverification-release-notes.xml\nEntry pass\nworking on link...   https://cloud.google.com/feeds/identityplatform-release-notes.xml\nEntry pass\nworking on link...   https://cloud.google.com/feeds/managedmicrosoftad-release-notes.xml\nEntry pass\nworking on link...   https://cloud.google.com/feeds/cloudresourcemanager-release-notes.xml\nEntry pass\nworking on link...   https://cloud.google.com/feeds/phishingprotection-release-notes.xml\nEntry pass\nworking on link...   https://cloud.google.com/feeds/recaptcha-enterprise-release-notes.xml\nEntry pass\nworking on link...   https://cloud.google.com/feeds/webrisk-release-notes.xml\nEntry pass\nworking on link...   https://cloud.google.com/feeds/run-release-notes.xml\nEntry pass\nworking on link...   https://cloud.google.com/feeds/functions-release-notes.xml\nEntry pass\nworking on link...   https://cloud.google.com/feeds/storage-release-notes.xml\nEntry pass\nworking on link...   https://cloud.google.com/feeds/filestore-release-notes.xml\nEntry pass\n"
    }
   ],
   "source": [
    "xml_df[\"datapack\"]=df.xml_url.apply(get_xml_data)"
   ]
  },
  {
   "cell_type": "code",
   "execution_count": 11,
   "metadata": {},
   "outputs": [
    {
     "output_type": "execute_result",
     "data": {
      "text/plain": "                             name  \\\n30           Cloud Healthcare API   \n80     Cloud Tools for PowerShell   \n81  Cloud Tools for Visual Studio   \n84           Cloud Healthcare API   \n\n                                                  url  \\\n30  https://cloud.google.com/healthcare/docs/relea...   \n80  https://cloud.google.com/tools/powershell/docs...   \n81  https://cloud.google.com/tools/visual-studio/d...   \n84  https://cloud.google.com/healthcare/docs/relea...   \n\n                                              xml_url   datapack  \n30  https://cloud.google.com/feeds/cloud-healthcar...  corrupted  \n80  https://cloud.google.com/feeds/cloud-tools-for...  corrupted  \n81  https://cloud.google.com/feeds/cloud-tools-for...  corrupted  \n84  https://cloud.google.com/feeds/cloud-healthcar...  corrupted  ",
      "text/html": "<div>\n<style scoped>\n    .dataframe tbody tr th:only-of-type {\n        vertical-align: middle;\n    }\n\n    .dataframe tbody tr th {\n        vertical-align: top;\n    }\n\n    .dataframe thead th {\n        text-align: right;\n    }\n</style>\n<table border=\"1\" class=\"dataframe\">\n  <thead>\n    <tr style=\"text-align: right;\">\n      <th></th>\n      <th>name</th>\n      <th>url</th>\n      <th>xml_url</th>\n      <th>datapack</th>\n    </tr>\n  </thead>\n  <tbody>\n    <tr>\n      <th>30</th>\n      <td>Cloud Healthcare API</td>\n      <td>https://cloud.google.com/healthcare/docs/relea...</td>\n      <td>https://cloud.google.com/feeds/cloud-healthcar...</td>\n      <td>corrupted</td>\n    </tr>\n    <tr>\n      <th>80</th>\n      <td>Cloud Tools for PowerShell</td>\n      <td>https://cloud.google.com/tools/powershell/docs...</td>\n      <td>https://cloud.google.com/feeds/cloud-tools-for...</td>\n      <td>corrupted</td>\n    </tr>\n    <tr>\n      <th>81</th>\n      <td>Cloud Tools for Visual Studio</td>\n      <td>https://cloud.google.com/tools/visual-studio/d...</td>\n      <td>https://cloud.google.com/feeds/cloud-tools-for...</td>\n      <td>corrupted</td>\n    </tr>\n    <tr>\n      <th>84</th>\n      <td>Cloud Healthcare API</td>\n      <td>https://cloud.google.com/healthcare/docs/relea...</td>\n      <td>https://cloud.google.com/feeds/cloud-healthcar...</td>\n      <td>corrupted</td>\n    </tr>\n  </tbody>\n</table>\n</div>"
     },
     "metadata": {},
     "execution_count": 11
    }
   ],
   "source": [
    "currupted_links=xml_df[xml_df[\"datapack\"]==\"corrupted\"]\n",
    "currupted_links"
   ]
  },
  {
   "cell_type": "code",
   "execution_count": 12,
   "metadata": {},
   "outputs": [
    {
     "output_type": "execute_result",
     "data": {
      "text/plain": "                                        name  \\\n0                    AutoML Natural Language   \n1                              AutoML Tables   \n2                         AutoML Translation   \n3   AutoML Video Intelligence Classification   \n4  AutoML Video Intelligence Object Tracking   \n\n                                                 url  \\\n0  https://cloud.google.com/automl-tables/docs/re...   \n1  https://cloud.google.com/natural-language/auto...   \n2  https://cloud.google.com/translate/automl/docs...   \n3  https://cloud.google.com/video-intelligence/au...   \n4  https://cloud.google.com/video-intelligence/au...   \n\n                                             xml_url  \\\n0  https://cloud.google.com/feeds/automl-tables-r...   \n1  https://cloud.google.com/feeds/automl-language...   \n2  https://cloud.google.com/feeds/automl-translat...   \n3  https://cloud.google.com/feeds/automl-video-in...   \n4  https://cloud.google.com/feeds/automl-video-in...   \n\n                                            datapack  \n0  [{'release_date': 'April 03, 2020', 'content':...  \n1  [{'release_date': 'April 03, 2020', 'content':...  \n2  [{'release_date': 'April 03, 2020', 'content':...  \n3  [{'release_date': 'April 10, 2019', 'content':...  \n4  [{'release_date': 'September 23, 2019', 'conte...  ",
      "text/html": "<div>\n<style scoped>\n    .dataframe tbody tr th:only-of-type {\n        vertical-align: middle;\n    }\n\n    .dataframe tbody tr th {\n        vertical-align: top;\n    }\n\n    .dataframe thead th {\n        text-align: right;\n    }\n</style>\n<table border=\"1\" class=\"dataframe\">\n  <thead>\n    <tr style=\"text-align: right;\">\n      <th></th>\n      <th>name</th>\n      <th>url</th>\n      <th>xml_url</th>\n      <th>datapack</th>\n    </tr>\n  </thead>\n  <tbody>\n    <tr>\n      <th>0</th>\n      <td>AutoML Natural Language</td>\n      <td>https://cloud.google.com/automl-tables/docs/re...</td>\n      <td>https://cloud.google.com/feeds/automl-tables-r...</td>\n      <td>[{'release_date': 'April 03, 2020', 'content':...</td>\n    </tr>\n    <tr>\n      <th>1</th>\n      <td>AutoML Tables</td>\n      <td>https://cloud.google.com/natural-language/auto...</td>\n      <td>https://cloud.google.com/feeds/automl-language...</td>\n      <td>[{'release_date': 'April 03, 2020', 'content':...</td>\n    </tr>\n    <tr>\n      <th>2</th>\n      <td>AutoML Translation</td>\n      <td>https://cloud.google.com/translate/automl/docs...</td>\n      <td>https://cloud.google.com/feeds/automl-translat...</td>\n      <td>[{'release_date': 'April 03, 2020', 'content':...</td>\n    </tr>\n    <tr>\n      <th>3</th>\n      <td>AutoML Video Intelligence Classification</td>\n      <td>https://cloud.google.com/video-intelligence/au...</td>\n      <td>https://cloud.google.com/feeds/automl-video-in...</td>\n      <td>[{'release_date': 'April 10, 2019', 'content':...</td>\n    </tr>\n    <tr>\n      <th>4</th>\n      <td>AutoML Video Intelligence Object Tracking</td>\n      <td>https://cloud.google.com/video-intelligence/au...</td>\n      <td>https://cloud.google.com/feeds/automl-video-in...</td>\n      <td>[{'release_date': 'September 23, 2019', 'conte...</td>\n    </tr>\n  </tbody>\n</table>\n</div>"
     },
     "metadata": {},
     "execution_count": 12
    }
   ],
   "source": [
    "final_df=xml_df[xml_df[\"datapack\"]!=\"corrupted\"]\n",
    "final_df.head()"
   ]
  },
  {
   "cell_type": "code",
   "execution_count": 16,
   "metadata": {},
   "outputs": [
    {
     "output_type": "execute_result",
     "data": {
      "text/plain": "collections.OrderedDict"
     },
     "metadata": {},
     "execution_count": 16
    }
   ],
   "source": [
    "type(final_df.datapack[0][0])"
   ]
  },
  {
   "cell_type": "code",
   "execution_count": 18,
   "metadata": {},
   "outputs": [
    {
     "output_type": "execute_result",
     "data": {
      "text/plain": "{'release_date': 'November 21, 2019',\n 'content': OrderedDict([('@type', 'html'),\n              ('#text',\n               '<h3>Feature</h3>\\n<p>As part of AI Explanations, AutoML Tables now provides the option to show how each feature impacted an online prediction. This capability is called local feature importance, and is calculated using the Sampled Shapley method. <a href=\"https://cloud.google.com/automl-tables/docs/features#local\">Learn more</a>.</p>')]),\n 'status': 'Feature',\n 'description': 'Feature\\nAs part of AI Explanations, AutoML Tables now provides the option to show how each feature impacted an online prediction. This capability is called local feature importance, and is calculated using the Sampled Shapley method. Learn more.'}"
     },
     "metadata": {},
     "execution_count": 18
    }
   ],
   "source": [
    "final_df.datapack[0][1]"
   ]
  },
  {
   "cell_type": "code",
   "execution_count": 23,
   "metadata": {},
   "outputs": [
    {
     "output_type": "stream",
     "name": "stdout",
     "text": "@type html\n#text <h3>Feature</h3>\n<p>As part of AI Explanations, AutoML Tables now provides the option to show how each feature impacted an online prediction. This capability is called local feature importance, and is calculated using the Sampled Shapley method. <a href=\"https://cloud.google.com/automl-tables/docs/features#local\">Learn more</a>.</p>\n"
    }
   ],
   "source": [
    "for key,value in final_df.datapack[0][1]['content'].items():\n",
    "    print(key, value)"
   ]
  },
  {
   "cell_type": "code",
   "execution_count": 26,
   "metadata": {},
   "outputs": [
    {
     "output_type": "execute_result",
     "data": {
      "text/plain": "dict_keys(['release_date', 'content', 'status', 'description'])"
     },
     "metadata": {},
     "execution_count": 26
    }
   ],
   "source": [
    "final_df.datapack[0][1].keys()"
   ]
  },
  {
   "cell_type": "code",
   "execution_count": 24,
   "metadata": {},
   "outputs": [
    {
     "output_type": "execute_result",
     "data": {
      "text/plain": "Index(['name', 'url', 'xml_url', 'datapack'], dtype='object')"
     },
     "metadata": {},
     "execution_count": 24
    }
   ],
   "source": [
    "final_df.columns"
   ]
  },
  {
   "cell_type": "code",
   "execution_count": 27,
   "metadata": {},
   "outputs": [],
   "source": [
    "unpacked_df = pd.DataFrame(columns=['name', 'url', 'xml_url', 'release_date', 'status', 'description' ])"
   ]
  },
  {
   "cell_type": "code",
   "execution_count": 50,
   "metadata": {
    "tags": [
     "outputPrepend",
     "outputPrepend",
     "outputPrepend",
     "outputPrepend",
     "outputPrepend",
     "outputPrepend",
     "outputPrepend",
     "outputPrepend",
     "outputPrepend",
     "outputPrepend",
     "outputPrepend",
     "outputPrepend",
     "outputPrepend",
     "outputPrepend",
     "outputPrepend",
     "outputPrepend",
     "outputPrepend",
     "outputPrepend",
     "outputPrepend",
     "outputPrepend",
     "outputPrepend",
     "outputPrepend",
     "outputPrepend",
     "outputPrepend",
     "outputPrepend",
     "outputPrepend",
     "outputPrepend",
     "outputPrepend",
     "outputPrepend",
     "outputPrepend",
     "outputPrepend",
     "outputPrepend",
     "outputPrepend",
     "outputPrepend",
     "outputPrepend",
     "outputPrepend",
     "outputPrepend",
     "outputPrepend",
     "outputPrepend",
     "outputPrepend",
     "outputPrepend",
     "outputPrepend",
     "outputPrepend",
     "outputPrepend",
     "outputPrepend",
     "outputPrepend",
     "outputPrepend",
     "outputPrepend",
     "outputPrepend",
     "outputPrepend",
     "outputPrepend",
     "outputPrepend",
     "outputPrepend",
     "outputPrepend",
     "outputPrepend",
     "outputPrepend",
     "outputPrepend",
     "outputPrepend",
     "outputPrepend",
     "outputPrepend",
     "outputPrepend",
     "outputPrepend",
     "outputPrepend",
     "outputPrepend",
     "outputPrepend",
     "outputPrepend",
     "outputPrepend",
     "outputPrepend"
    ]
   },
   "outputs": [],
   "source": [
    "for index, row in final_df.iterrows():\n",
    "    # print(row[3][0])\n",
    "    # print()\n",
    "    for release in row[3]:\n",
    "        new_row = {}\n",
    "        new_row['name'] = row[0]\n",
    "        new_row['url'] = row[1]\n",
    "        new_row['xml_url'] = row[2]\n",
    "        new_row['release_date'] = release['release_date']\n",
    "        new_row['status'] = release['status']\n",
    "        new_row['description'] = release['description']\n",
    "        unpacked_df = unpacked_df.append(new_row, ignore_index = True)\n"
   ]
  },
  {
   "cell_type": "code",
   "execution_count": 51,
   "metadata": {},
   "outputs": [
    {
     "output_type": "execute_result",
     "data": {
      "text/plain": "                      name                                                url  \\\n0  AutoML Natural Language  https://cloud.google.com/automl-tables/docs/re...   \n1  AutoML Natural Language  https://cloud.google.com/automl-tables/docs/re...   \n2  AutoML Natural Language  https://cloud.google.com/automl-tables/docs/re...   \n3  AutoML Natural Language  https://cloud.google.com/automl-tables/docs/re...   \n4  AutoML Natural Language  https://cloud.google.com/automl-tables/docs/re...   \n\n                                             xml_url       release_date  \\\n0  https://cloud.google.com/feeds/automl-tables-r...     April 03, 2020   \n1  https://cloud.google.com/feeds/automl-tables-r...  November 21, 2019   \n2  https://cloud.google.com/feeds/automl-tables-r...  November 18, 2019   \n3  https://cloud.google.com/feeds/automl-tables-r...  November 15, 2019   \n4  https://cloud.google.com/feeds/automl-tables-r...      July 23, 2019   \n\n    status                                        description  \n0  Changed  Changed\\nIntegration with VPC Service Controls...  \n1  Feature  Feature\\nAs part of AI Explanations, AutoML Ta...  \n2  Feature  Feature\\nSupport for the European Union region...  \n3  Changed  Changed\\n\\nSupport for up to 500 distinct valu...  \n4  Changed  Changed\\nDatasets smaller than 100,000 rows (a...  ",
      "text/html": "<div>\n<style scoped>\n    .dataframe tbody tr th:only-of-type {\n        vertical-align: middle;\n    }\n\n    .dataframe tbody tr th {\n        vertical-align: top;\n    }\n\n    .dataframe thead th {\n        text-align: right;\n    }\n</style>\n<table border=\"1\" class=\"dataframe\">\n  <thead>\n    <tr style=\"text-align: right;\">\n      <th></th>\n      <th>name</th>\n      <th>url</th>\n      <th>xml_url</th>\n      <th>release_date</th>\n      <th>status</th>\n      <th>description</th>\n    </tr>\n  </thead>\n  <tbody>\n    <tr>\n      <th>0</th>\n      <td>AutoML Natural Language</td>\n      <td>https://cloud.google.com/automl-tables/docs/re...</td>\n      <td>https://cloud.google.com/feeds/automl-tables-r...</td>\n      <td>April 03, 2020</td>\n      <td>Changed</td>\n      <td>Changed\\nIntegration with VPC Service Controls...</td>\n    </tr>\n    <tr>\n      <th>1</th>\n      <td>AutoML Natural Language</td>\n      <td>https://cloud.google.com/automl-tables/docs/re...</td>\n      <td>https://cloud.google.com/feeds/automl-tables-r...</td>\n      <td>November 21, 2019</td>\n      <td>Feature</td>\n      <td>Feature\\nAs part of AI Explanations, AutoML Ta...</td>\n    </tr>\n    <tr>\n      <th>2</th>\n      <td>AutoML Natural Language</td>\n      <td>https://cloud.google.com/automl-tables/docs/re...</td>\n      <td>https://cloud.google.com/feeds/automl-tables-r...</td>\n      <td>November 18, 2019</td>\n      <td>Feature</td>\n      <td>Feature\\nSupport for the European Union region...</td>\n    </tr>\n    <tr>\n      <th>3</th>\n      <td>AutoML Natural Language</td>\n      <td>https://cloud.google.com/automl-tables/docs/re...</td>\n      <td>https://cloud.google.com/feeds/automl-tables-r...</td>\n      <td>November 15, 2019</td>\n      <td>Changed</td>\n      <td>Changed\\n\\nSupport for up to 500 distinct valu...</td>\n    </tr>\n    <tr>\n      <th>4</th>\n      <td>AutoML Natural Language</td>\n      <td>https://cloud.google.com/automl-tables/docs/re...</td>\n      <td>https://cloud.google.com/feeds/automl-tables-r...</td>\n      <td>July 23, 2019</td>\n      <td>Changed</td>\n      <td>Changed\\nDatasets smaller than 100,000 rows (a...</td>\n    </tr>\n  </tbody>\n</table>\n</div>"
     },
     "metadata": {},
     "execution_count": 51
    }
   ],
   "source": [
    "unpacked_df.head()"
   ]
  },
  {
   "cell_type": "code",
   "execution_count": 52,
   "metadata": {},
   "outputs": [
    {
     "output_type": "execute_result",
     "data": {
      "text/plain": "                 name                                                url  \\\n2382    Cloud Storage  https://cloud.google.com/storage/docs/release-...   \n2383  Cloud Filestore  https://cloud.google.com/filestore/docs/releas...   \n2384  Cloud Filestore  https://cloud.google.com/filestore/docs/releas...   \n2385  Cloud Filestore  https://cloud.google.com/filestore/docs/releas...   \n2386  Cloud Filestore  https://cloud.google.com/filestore/docs/releas...   \n\n                                                xml_url      release_date  \\\n2382  https://cloud.google.com/feeds/storage-release...  October 09, 2018   \n2383  https://cloud.google.com/feeds/filestore-relea...    April 20, 2020   \n2384  https://cloud.google.com/feeds/filestore-relea...  January 24, 2020   \n2385  https://cloud.google.com/feeds/filestore-relea...    April 08, 2019   \n2386  https://cloud.google.com/feeds/filestore-relea...     July 12, 2018   \n\n       status                                        description  \n2382  Feature  Feature\\nC++ Cloud Storage Client LibraryALPHA...  \n2383  Feature  Feature\\nFilestore is available in the us-west...  \n2384  Feature  Feature\\nCloud Filestore is now available in t...  \n2385  Feature  Feature\\nGA release of Cloud Filestore\\n\\nClou...  \n2386  Feature  Feature\\nBeta release of Cloud Filestore\\n\\nTh...  ",
      "text/html": "<div>\n<style scoped>\n    .dataframe tbody tr th:only-of-type {\n        vertical-align: middle;\n    }\n\n    .dataframe tbody tr th {\n        vertical-align: top;\n    }\n\n    .dataframe thead th {\n        text-align: right;\n    }\n</style>\n<table border=\"1\" class=\"dataframe\">\n  <thead>\n    <tr style=\"text-align: right;\">\n      <th></th>\n      <th>name</th>\n      <th>url</th>\n      <th>xml_url</th>\n      <th>release_date</th>\n      <th>status</th>\n      <th>description</th>\n    </tr>\n  </thead>\n  <tbody>\n    <tr>\n      <th>2382</th>\n      <td>Cloud Storage</td>\n      <td>https://cloud.google.com/storage/docs/release-...</td>\n      <td>https://cloud.google.com/feeds/storage-release...</td>\n      <td>October 09, 2018</td>\n      <td>Feature</td>\n      <td>Feature\\nC++ Cloud Storage Client LibraryALPHA...</td>\n    </tr>\n    <tr>\n      <th>2383</th>\n      <td>Cloud Filestore</td>\n      <td>https://cloud.google.com/filestore/docs/releas...</td>\n      <td>https://cloud.google.com/feeds/filestore-relea...</td>\n      <td>April 20, 2020</td>\n      <td>Feature</td>\n      <td>Feature\\nFilestore is available in the us-west...</td>\n    </tr>\n    <tr>\n      <th>2384</th>\n      <td>Cloud Filestore</td>\n      <td>https://cloud.google.com/filestore/docs/releas...</td>\n      <td>https://cloud.google.com/feeds/filestore-relea...</td>\n      <td>January 24, 2020</td>\n      <td>Feature</td>\n      <td>Feature\\nCloud Filestore is now available in t...</td>\n    </tr>\n    <tr>\n      <th>2385</th>\n      <td>Cloud Filestore</td>\n      <td>https://cloud.google.com/filestore/docs/releas...</td>\n      <td>https://cloud.google.com/feeds/filestore-relea...</td>\n      <td>April 08, 2019</td>\n      <td>Feature</td>\n      <td>Feature\\nGA release of Cloud Filestore\\n\\nClou...</td>\n    </tr>\n    <tr>\n      <th>2386</th>\n      <td>Cloud Filestore</td>\n      <td>https://cloud.google.com/filestore/docs/releas...</td>\n      <td>https://cloud.google.com/feeds/filestore-relea...</td>\n      <td>July 12, 2018</td>\n      <td>Feature</td>\n      <td>Feature\\nBeta release of Cloud Filestore\\n\\nTh...</td>\n    </tr>\n  </tbody>\n</table>\n</div>"
     },
     "metadata": {},
     "execution_count": 52
    }
   ],
   "source": [
    "unpacked_df.tail()"
   ]
  },
  {
   "cell_type": "code",
   "execution_count": null,
   "metadata": {},
   "outputs": [],
   "source": [
    "unpacked_df.to_csv('flattened.csv')"
   ]
  }
 ],
 "metadata": {
  "kernelspec": {
   "display_name": "Python 3.8.1 32-bit",
   "language": "python",
   "name": "python38132bitd5c2409ef0c147a0a133e9dc79a195ba"
  },
  "language_info": {
   "codemirror_mode": {
    "name": "ipython",
    "version": 3
   },
   "file_extension": ".py",
   "mimetype": "text/x-python",
   "name": "python",
   "nbconvert_exporter": "python",
   "pygments_lexer": "ipython3",
   "version": "3.8.1-final"
  }
 },
 "nbformat": 4,
 "nbformat_minor": 2
}