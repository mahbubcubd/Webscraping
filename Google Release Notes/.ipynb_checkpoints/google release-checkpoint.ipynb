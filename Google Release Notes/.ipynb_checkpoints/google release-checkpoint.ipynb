{
 "cells": [
  {
   "cell_type": "code",
   "execution_count": 137,
   "metadata": {},
   "outputs": [],
   "source": [
    "import pandas as pd\n",
    "import requests as rq\n",
    "from bs4 import BeautifulSoup as BS\n",
    "import xmltodict\n",
    "from datetime import datetime\n",
    "import dateparser"
   ]
  },
  {
   "cell_type": "code",
   "execution_count": 2,
   "metadata": {},
   "outputs": [],
   "source": [
    "# Getting Parent URL\n",
    "url=\"https://cloud.google.com/release-notes/all\"\n",
    "page=rq.get(url).content\n",
    "soup=BS(page,'html.parser')\n",
    "services = soup.findAll(\"li\", {\"class\": \"release-note-sitemap-card-item\"})"
   ]
  },
  {
   "cell_type": "code",
   "execution_count": 3,
   "metadata": {},
   "outputs": [
    {
     "output_type": "execute_result",
     "data": {
      "text/plain": "                                        name  \\\n0                    AutoML Natural Language   \n1                              AutoML Tables   \n2                         AutoML Translation   \n3   AutoML Video Intelligence Classification   \n4  AutoML Video Intelligence Object Tracking   \n\n                                                 url  \n0  https://cloud.google.com/automl-tables/docs/re...  \n1  https://cloud.google.com/natural-language/auto...  \n2  https://cloud.google.com/translate/automl/docs...  \n3  https://cloud.google.com/video-intelligence/au...  \n4  https://cloud.google.com/video-intelligence/au...  ",
      "text/html": "<div>\n<style scoped>\n    .dataframe tbody tr th:only-of-type {\n        vertical-align: middle;\n    }\n\n    .dataframe tbody tr th {\n        vertical-align: top;\n    }\n\n    .dataframe thead th {\n        text-align: right;\n    }\n</style>\n<table border=\"1\" class=\"dataframe\">\n  <thead>\n    <tr style=\"text-align: right;\">\n      <th></th>\n      <th>name</th>\n      <th>url</th>\n    </tr>\n  </thead>\n  <tbody>\n    <tr>\n      <th>0</th>\n      <td>AutoML Natural Language</td>\n      <td>https://cloud.google.com/automl-tables/docs/re...</td>\n    </tr>\n    <tr>\n      <th>1</th>\n      <td>AutoML Tables</td>\n      <td>https://cloud.google.com/natural-language/auto...</td>\n    </tr>\n    <tr>\n      <th>2</th>\n      <td>AutoML Translation</td>\n      <td>https://cloud.google.com/translate/automl/docs...</td>\n    </tr>\n    <tr>\n      <th>3</th>\n      <td>AutoML Video Intelligence Classification</td>\n      <td>https://cloud.google.com/video-intelligence/au...</td>\n    </tr>\n    <tr>\n      <th>4</th>\n      <td>AutoML Video Intelligence Object Tracking</td>\n      <td>https://cloud.google.com/video-intelligence/au...</td>\n    </tr>\n  </tbody>\n</table>\n</div>"
     },
     "metadata": {},
     "execution_count": 3
    }
   ],
   "source": [
    "root_url=\"https://cloud.google.com\"\n",
    "url_pack=[dict(name=i.find(\"h3\").text,url=root_url+i.find(\"a\")[\"href\"]) for i in services]\n",
    "df=pd.DataFrame(url_pack)\n",
    "df.to_csv(\"release-pages.csv\", index=False)\n",
    "\n",
    "try:\n",
    "    links=pd.read_csv(\"cache_url.csv\")\n",
    "    cache_url=list(links['url'])\n",
    "except:\n",
    "    cache_url=[]\n",
    "df.head()"
   ]
  },
  {
   "cell_type": "code",
   "execution_count": 4,
   "metadata": {},
   "outputs": [],
   "source": [
    "def get_xml_links(col):\n",
    "    if col in cache_url:\n",
    "        get_url=links[links['url']==col]\n",
    "        xml_url=list(get_url['xml_url'])[0]\n",
    "    else:\n",
    "        su=BS(rq.get(col).content,'html.parser')\n",
    "        try:\n",
    "            xml_url= su.find(\"section\",{\"class\": \"xml\"}).find(\"code\").text\n",
    "            xml_url=xml_url.replace(\"\\n\",\"\")\n",
    "        except Exception as e:\n",
    "            print(\"Error for \", col)\n",
    "            xml_url=\"no_xml_link\"\n",
    "    return xml_url"
   ]
  },
  {
   "cell_type": "code",
   "execution_count": 5,
   "metadata": {},
   "outputs": [
    {
     "output_type": "stream",
     "name": "stdout",
     "text": "Error for  https://cloud.google.com/ai-platform/data-labeling/docs/release-notes\nError for  https://cloud.google.com/ai-platform/data-labeling/docs/release-notes\nError for  https://cloud.google.com/container-optimized-os/docs/release-notes\nError for  https://cloud.google.com/sdk/docs/release-notes\nError for  https://cloud.google.com/event-threat-detection/docs/release-notes\n"
    }
   ],
   "source": [
    "df[\"xml_url\"]=df.url.apply(get_xml_links)"
   ]
  },
  {
   "cell_type": "code",
   "execution_count": 6,
   "metadata": {},
   "outputs": [],
   "source": [
    "df.to_csv(\"cache_url.csv\",index=False)"
   ]
  },
  {
   "cell_type": "code",
   "execution_count": 8,
   "metadata": {},
   "outputs": [],
   "source": [
    "xml_df=df[df[\"xml_url\"]!=\"no_xml_link\"]"
   ]
  },
  {
   "cell_type": "code",
   "execution_count": 9,
   "metadata": {},
   "outputs": [],
   "source": [
    "def get_xml_data(row):\n",
    "    print(\"working on link...  \",row)\n",
    "    dataset=[]\n",
    "    if row!=\"no_xml_link\":\n",
    "        try:\n",
    "            docs=xmltodict.parse(rq.get(row).content)['feed']['entry']\n",
    "            print(\"Entry pass\")\n",
    "            try:\n",
    "                contents=docs[\"content\"]\n",
    "                c_soup=BS(contents[\"#text\"],'html.parser')\n",
    "                try:\n",
    "                    status=c_soup.findAll(\"h3\").text\n",
    "                except:\n",
    "                    try:\n",
    "                        status=c_soup.find(\"h3\").text\n",
    "                    except:\n",
    "                        status=''\n",
    "                description=c_soup.text\n",
    "                data= dict(release_date=docs['title'],content=contents, status=status, description=description)\n",
    "                dataset.append(data)\n",
    "            except:\n",
    "                for i in docs:\n",
    "                    try:\n",
    "                        contents=i[\"content\"]\n",
    "                        c_soup=BS(contents[\"#text\"],'html.parser')\n",
    "                        try:\n",
    "                            status=c_soup.findAll(\"h3\").text\n",
    "                        except:\n",
    "                            try:\n",
    "                                status=c_soup.find(\"h3\").text\n",
    "                            except:\n",
    "                                status=''\n",
    "                        description=c_soup.text\n",
    "                        data= dict(release_date=i['title'],content=contents, status=status, description=description)\n",
    "                        dataset.append(data)\n",
    "                    except Exception as e:\n",
    "                        print(\"Error \", e)            \n",
    "        except Exception as e:\n",
    "            print(\"xml parsing err\", row)\n",
    "    if len(dataset)==0:\n",
    "        dataset=\"corrupted\"\n",
    "    return dataset\n"
   ]
  },
  {
   "cell_type": "code",
   "execution_count": 10,
   "metadata": {},
   "outputs": [
    {
     "output_type": "stream",
     "name": "stdout",
     "text": "working on link...   https://cloud.google.com/feeds/automl-tables-release-notes.xml\nEntry pass\nworking on link...   https://cloud.google.com/feeds/automl-language-release-notes.xml\nEntry pass\nworking on link...   https://cloud.google.com/feeds/automl-translate-release-notes.xml\nEntry pass\nworking on link...   https://cloud.google.com/feeds/automl-video-intelligence-classification-release-notes.xml\nEntry pass\nworking on link...   https://cloud.google.com/feeds/automl-video-intelligence-object-tracking-release-notes.xml\nEntry pass\nworking on link...   https://cloud.google.com/feeds/automl-vision-release-notes.xml\nEntry pass\nworking on link...   https://cloud.google.com/feeds/automl-vision-object-detection-release-notes.xml\nEntry pass\nworking on link...   https://cloud.google.com/feeds/vision-release-notes.xml\nEntry pass\nworking on link...   https://cloud.google.com/feeds/visionproductsearch-release-notes.xml\nEntry pass\nworking on link...   https://cloud.google.com/feeds/video-release-notes.xml\nEntry pass\nworking on link...   https://cloud.google.com/feeds/language-release-notes.xml\nEntry pass\nworking on link...   https://cloud.google.com/feeds/translate-release-notes.xml\nEntry pass\nworking on link...   https://cloud.google.com/feeds/tts-release-notes.xml\nEntry pass\nworking on link...   https://cloud.google.com/feeds/speech-release-notes.xml\nEntry pass\nworking on link...   https://cloud.google.com/feeds/dialogflow-release-notes.xml\nEntry pass\nworking on link...   no_xml_link\nworking on link...   https://cloud.google.com/feeds/automl-recommendation-release-notes.xml\nEntry pass\nworking on link...   https://cloud.google.com/feeds/aiplatform-release-notes.xml\nEntry pass\nworking on link...   https://cloud.google.com/feeds/deeplearningvm-release-notes.xml\nEntry pass\nworking on link...   no_xml_link\nworking on link...   https://cloud.google.com/feeds/aiplatformdeeplearningcontainers-release-notes.xml\nEntry pass\nworking on link...   https://cloud.google.com/feeds/aiplatformnotebooks-release-notes.xml\nEntry pass\nworking on link...   https://cloud.google.com/feeds/ai-platform-pipelines-release-notes.xml\nEntry pass\nworking on link...   https://cloud.google.com/feeds/ai-platform-prediction-release-notes.xml\nEntry pass\nworking on link...   https://cloud.google.com/feeds/ai-platform-training-release-notes.xml\nEntry pass\nworking on link...   https://cloud.google.com/feeds/aihub-release-notes.xml\nEntry pass\nworking on link...   https://cloud.google.com/feeds/compute-release-notes.xml\nEntry pass\nworking on link...   https://cloud.google.com/feeds/tpu-release-notes.xml\nEntry pass\nworking on link...   https://cloud.google.com/feeds/tensorflowenterprise-release-notes.xml\nEntry pass\nworking on link...   https://cloud.google.com/feeds/cloud-endpoints-release-notes.xml\nEntry pass\nworking on link...   https://cloud.google.com/feeds/cloud-healthcare-release-notes.xml\nxml parsing err https://cloud.google.com/feeds/cloud-healthcare-release-notes.xml\nworking on link...   https://cloud.google.com/feeds/compute-release-notes.xml\nEntry pass\nworking on link...   https://cloud.google.com/feeds/app-engine-admin-api-release-notes.xml\nEntry pass\nworking on link...   https://cloud.google.com/feeds/gaeflex-net-release-notes.xml\nEntry pass\nworking on link...   https://cloud.google.com/feeds/gaeflexiblecustomruntimes-release-notes.xml\nEntry pass\nworking on link...   https://cloud.google.com/feeds/gaeflex-go-release-notes.xml\nEntry pass\nworking on link...   https://cloud.google.com/feeds/gaeflex-java-release-notes.xml\nEntry pass\nworking on link...   https://cloud.google.com/feeds/gaeflex-node-release-notes.xml\nEntry pass\nworking on link...   https://cloud.google.com/feeds/gaeflex-php-release-notes.xml\nEntry pass\nworking on link...   https://cloud.google.com/feeds/gaeflex-py-release-notes.xml\nEntry pass\nworking on link...   https://cloud.google.com/feeds/gaeflex-ruby-release-notes.xml\nEntry pass\nworking on link...   https://cloud.google.com/feeds/gaestd-go-release-notes.xml\nEntry pass\nworking on link...   https://cloud.google.com/feeds/gaestd-java-release-notes.xml\nEntry pass\nworking on link...   https://cloud.google.com/feeds/gaestd-node-release-notes.xml\nEntry pass\nworking on link...   https://cloud.google.com/feeds/gaestd-php-release-notes.xml\nEntry pass\nworking on link...   https://cloud.google.com/feeds/gaestd-py-release-notes.xml\nEntry pass\nworking on link...   https://cloud.google.com/feeds/gaestd-ruby-release-notes.xml\nEntry pass\nworking on link...   https://cloud.google.com/feeds/compute-release-notes.xml\nEntry pass\nworking on link...   https://cloud.google.com/feeds/migrate-for-compute-engine-release-notes.xml\nEntry pass\nworking on link...   https://cloud.google.com/feeds/kubernetes-engine-release-notes.xml\nEntry pass\nworking on link...   https://cloud.google.com/feeds/container-registry-release-notes.xml\nEntry pass\nworking on link...   https://cloud.google.com/feeds/cloudbuild-release-notes.xml\nEntry pass\nworking on link...   https://cloud.google.com/feeds/aiplatformdeeplearningcontainers-release-notes.xml\nEntry pass\nworking on link...   no_xml_link\nworking on link...   https://cloud.google.com/feeds/bigquery-release-notes.xml\nEntry pass\nworking on link...   https://cloud.google.com/feeds/composer-release-notes.xml\nEntry pass\nworking on link...   https://cloud.google.com/feeds/dataflow-release-notes.xml\nEntry pass\nworking on link...   https://cloud.google.com/feeds/clouddatafusion-release-notes.xml\nEntry pass\nworking on link...   https://cloud.google.com/feeds/dataprep-release-notes.xml\nEntry pass\nworking on link...   https://cloud.google.com/feeds/dataproc-release-notes.xml\nEntry pass\nworking on link...   https://cloud.google.com/feeds/pubsub-release-notes.xml\nEntry pass\nworking on link...   https://cloud.google.com/feeds/data-catalog-release-notes.xml\nEntry pass\nworking on link...   https://cloud.google.com/feeds/cloud-life-sciences-release-notes.xml\nEntry pass\nworking on link...   https://cloud.google.com/feeds/bigtable-release-notes.xml\nEntry pass\nworking on link...   https://cloud.google.com/feeds/fs-release-notes.xml\nEntry pass\nworking on link...   https://cloud.google.com/feeds/memorystorememcache-release-notes.xml\nEntry pass\nworking on link...   https://cloud.google.com/feeds/memorystore-release-notes.xml\nEntry pass\nworking on link...   https://cloud.google.com/feeds/spanner-release-notes.xml\nEntry pass\nworking on link...   https://cloud.google.com/feeds/cloud-sql-mysql-release-notes.xml\nEntry pass\nworking on link...   https://cloud.google.com/feeds/cloud-sql-postgres-release-notes.xml\nEntry pass\nworking on link...   https://cloud.google.com/feeds/cloud-sql-server-release-notes.xml\nEntry pass\nworking on link...   https://cloud.google.com/feeds/datastore-release-notes.xml\nEntry pass\nworking on link...   https://cloud.google.com/feeds/artifactregistry-release-notes.xml\nEntry pass\nworking on link...   no_xml_link\nworking on link...   https://cloud.google.com/feeds/container-registry-release-notes.xml\nEntry pass\nworking on link...   https://cloud.google.com/feeds/cloudbuild-release-notes.xml\nEntry pass\nworking on link...   https://cloud.google.com/feeds/cloud-source-repositories-release-notes.xml\nEntry pass\nworking on link...   https://cloud.google.com/feeds/cloudscheduler-release-notes.xml\nEntry pass\nworking on link...   https://cloud.google.com/feeds/cloud-tasks-release-notes.xml\nEntry pass\nworking on link...   https://cloud.google.com/feeds/cloud-code-for-intellij-release-notes.xml\nEntry pass\nworking on link...   https://cloud.google.com/feeds/cloud-tools-for-powershell-release-notes.md\nxml parsing err https://cloud.google.com/feeds/cloud-tools-for-powershell-release-notes.md\nworking on link...   https://cloud.google.com/feeds/cloud-tools-for-visual-studio-release-notes.md\nxml parsing err https://cloud.google.com/feeds/cloud-tools-for-visual-studio-release-notes.md\nworking on link...   https://cloud.google.com/feeds/eclipse-release-notes.xml\nEntry pass\nworking on link...   https://cloud.google.com/feeds/cloud-life-sciences-release-notes.xml\nEntry pass\nworking on link...   https://cloud.google.com/feeds/cloud-healthcare-release-notes.xml\nxml parsing err https://cloud.google.com/feeds/cloud-healthcare-release-notes.xml\nworking on link...   https://cloud.google.com/feeds/anthos-release-notes.xml\nEntry pass\nworking on link...   https://cloud.google.com/feeds/gkeonprem-release-notes.xml\nEntry pass\nworking on link...   https://cloud.google.com/feeds/anthos-config-management-release-notes.xml\nEntry pass\nworking on link...   https://cloud.google.com/feeds/servicemesh-release-notes.xml\nEntry pass\nworking on link...   https://cloud.google.com/feeds/configconnector-release-notes.xml\nEntry pass\nworking on link...   https://cloud.google.com/feeds/runanthos-release-notes.xml\nEntry pass\nworking on link...   https://cloud.google.com/feeds/gcpmarketplace-release-notes.xml\nEntry pass\nworking on link...   https://cloud.google.com/feeds/migrateanthos-release-notes.xml\nEntry pass\nworking on link...   https://cloud.google.com/feeds/cloudbuild-release-notes.xml\nEntry pass\nworking on link...   https://cloud.google.com/feeds/trafficdirector-release-notes.xml\nEntry pass\nworking on link...   https://cloud.google.com/feeds/iot-release-notes.xml\nEntry pass\nworking on link...   https://cloud.google.com/feeds/private-catalog-release-notes.xml\nEntry pass\nworking on link...   https://cloud.google.com/feeds/deploymentmanager-release-notes.xml\nEntry pass\nworking on link...   https://cloud.google.com/feeds/servicemesh-release-notes.xml\nEntry pass\nworking on link...   https://cloud.google.com/feeds/billing-release-notes.xml\nEntry pass\nworking on link...   https://cloud.google.com/feeds/cloud-game-servers-release-notes.xml\nEntry pass\nworking on link...   https://cloud.google.com/feeds/bigquerydatatransfer-release-notes.xml\nEntry pass\nworking on link...   https://cloud.google.com/feeds/transferappliance-2.0-release-notes.xml\nEntry pass\nworking on link...   https://cloud.google.com/feeds/storagetransfer-release-notes.xml\nEntry pass\nworking on link...   https://cloud.google.com/feeds/migrateanthos-release-notes.xml\nEntry pass\nworking on link...   https://cloud.google.com/feeds/migrate-for-compute-engine-release-notes.xml\nEntry pass\nworking on link...   https://cloud.google.com/feeds/transferappliance-2.0-release-notes.xml\nEntry pass\nworking on link...   https://cloud.google.com/feeds/armor-release-notes.xml\nEntry pass\nworking on link...   https://cloud.google.com/feeds/cloudcdn-release-notes.xml\nEntry pass\nworking on link...   https://cloud.google.com/feeds/dns-release-notes.xml\nEntry pass\nworking on link...   https://cloud.google.com/feeds/cloudloadbalancing-release-notes.xml\nEntry pass\nworking on link...   https://cloud.google.com/feeds/cloudnat-release-notes.xml\nEntry pass\nworking on link...   https://cloud.google.com/feeds/cloudinterconnect-release-notes.xml\nEntry pass\nworking on link...   https://cloud.google.com/feeds/networkintelligence-release-notes.xml\nEntry pass\nworking on link...   https://cloud.google.com/feeds/networkservicetiers-release-notes.xml\nEntry pass\nworking on link...   https://cloud.google.com/feeds/trafficdirector-release-notes.xml\nEntry pass\nworking on link...   https://cloud.google.com/feeds/vpc-release-notes.xml\nEntry pass\nworking on link...   https://cloud.google.com/feeds/cloudrouter-release-notes.xml\nEntry pass\nworking on link...   https://cloud.google.com/feeds/cloudvpn-release-notes.xml\nEntry pass\nworking on link...   https://cloud.google.com/feeds/stackdriver-release-notes.xml\nEntry pass\nworking on link...   https://cloud.google.com/feeds/stackdriver-release-notes.xml\nEntry pass\nworking on link...   https://cloud.google.com/feeds/stackdriver-release-notes.xml\nEntry pass\nworking on link...   https://cloud.google.com/feeds/stackdriver-release-notes.xml\nEntry pass\nworking on link...   https://cloud.google.com/feeds/stackdriver-release-notes.xml\nEntry pass\nworking on link...   https://cloud.google.com/feeds/stackdriver-release-notes.xml\nEntry pass\nworking on link...   https://cloud.google.com/feeds/stackdriver-release-notes.xml\nEntry pass\nworking on link...   https://cloud.google.com/feeds/binary-auth-release-notes.xml\nEntry pass\nworking on link...   https://cloud.google.com/feeds/asset-release-notes.xml\nEntry pass\nworking on link...   https://cloud.google.com/feeds/dlp-release-notes.xml\nEntry pass\nworking on link...   https://cloud.google.com/feeds/kms-release-notes.xml\nEntry pass\nworking on link...   https://cloud.google.com/feeds/scc-release-notes.xml\nEntry pass\nworking on link...   https://cloud.google.com/feeds/websecurityscanner-release-notes.xml\nEntry pass\nworking on link...   no_xml_link\nworking on link...   https://cloud.google.com/feeds/vpc-sc-release-notes.xml\nEntry pass\nworking on link...   https://cloud.google.com/feeds/secret-manager-release-notes.xml\nEntry pass\nworking on link...   https://cloud.google.com/feeds/iam-release-notes.xml\nEntry pass\nworking on link...   https://cloud.google.com/feeds/cloudidentity-release-notes.xml\nEntry pass\nworking on link...   https://cloud.google.com/feeds/iap-release-notes.xml\nEntry pass\nworking on link...   https://cloud.google.com/feeds/endpointverification-release-notes.xml\nEntry pass\nworking on link...   https://cloud.google.com/feeds/identityplatform-release-notes.xml\nEntry pass\nworking on link...   https://cloud.google.com/feeds/managedmicrosoftad-release-notes.xml\nEntry pass\nworking on link...   https://cloud.google.com/feeds/cloudresourcemanager-release-notes.xml\nEntry pass\nworking on link...   https://cloud.google.com/feeds/phishingprotection-release-notes.xml\nEntry pass\nworking on link...   https://cloud.google.com/feeds/recaptcha-enterprise-release-notes.xml\nEntry pass\nworking on link...   https://cloud.google.com/feeds/webrisk-release-notes.xml\nEntry pass\nworking on link...   https://cloud.google.com/feeds/run-release-notes.xml\nEntry pass\nworking on link...   https://cloud.google.com/feeds/functions-release-notes.xml\nEntry pass\nworking on link...   https://cloud.google.com/feeds/storage-release-notes.xml\nEntry pass\nworking on link...   https://cloud.google.com/feeds/filestore-release-notes.xml\nEntry pass\n"
    }
   ],
   "source": [
    "xml_df[\"datapack\"]=df.xml_url.apply(get_xml_data)"
   ]
  },
  {
   "cell_type": "code",
   "execution_count": 11,
   "metadata": {},
   "outputs": [
    {
     "output_type": "execute_result",
     "data": {
      "text/plain": "                             name  \\\n30           Cloud Healthcare API   \n80     Cloud Tools for PowerShell   \n81  Cloud Tools for Visual Studio   \n84           Cloud Healthcare API   \n\n                                                  url  \\\n30  https://cloud.google.com/healthcare/docs/relea...   \n80  https://cloud.google.com/tools/powershell/docs...   \n81  https://cloud.google.com/tools/visual-studio/d...   \n84  https://cloud.google.com/healthcare/docs/relea...   \n\n                                              xml_url   datapack  \n30  https://cloud.google.com/feeds/cloud-healthcar...  corrupted  \n80  https://cloud.google.com/feeds/cloud-tools-for...  corrupted  \n81  https://cloud.google.com/feeds/cloud-tools-for...  corrupted  \n84  https://cloud.google.com/feeds/cloud-healthcar...  corrupted  ",
      "text/html": "<div>\n<style scoped>\n    .dataframe tbody tr th:only-of-type {\n        vertical-align: middle;\n    }\n\n    .dataframe tbody tr th {\n        vertical-align: top;\n    }\n\n    .dataframe thead th {\n        text-align: right;\n    }\n</style>\n<table border=\"1\" class=\"dataframe\">\n  <thead>\n    <tr style=\"text-align: right;\">\n      <th></th>\n      <th>name</th>\n      <th>url</th>\n      <th>xml_url</th>\n      <th>datapack</th>\n    </tr>\n  </thead>\n  <tbody>\n    <tr>\n      <th>30</th>\n      <td>Cloud Healthcare API</td>\n      <td>https://cloud.google.com/healthcare/docs/relea...</td>\n      <td>https://cloud.google.com/feeds/cloud-healthcar...</td>\n      <td>corrupted</td>\n    </tr>\n    <tr>\n      <th>80</th>\n      <td>Cloud Tools for PowerShell</td>\n      <td>https://cloud.google.com/tools/powershell/docs...</td>\n      <td>https://cloud.google.com/feeds/cloud-tools-for...</td>\n      <td>corrupted</td>\n    </tr>\n    <tr>\n      <th>81</th>\n      <td>Cloud Tools for Visual Studio</td>\n      <td>https://cloud.google.com/tools/visual-studio/d...</td>\n      <td>https://cloud.google.com/feeds/cloud-tools-for...</td>\n      <td>corrupted</td>\n    </tr>\n    <tr>\n      <th>84</th>\n      <td>Cloud Healthcare API</td>\n      <td>https://cloud.google.com/healthcare/docs/relea...</td>\n      <td>https://cloud.google.com/feeds/cloud-healthcar...</td>\n      <td>corrupted</td>\n    </tr>\n  </tbody>\n</table>\n</div>"
     },
     "metadata": {},
     "execution_count": 11
    }
   ],
   "source": [
    "currupted_links=xml_df[xml_df[\"datapack\"]==\"corrupted\"]\n",
    "currupted_links"
   ]
  },
  {
   "cell_type": "code",
   "execution_count": 12,
   "metadata": {},
   "outputs": [
    {
     "output_type": "execute_result",
     "data": {
      "text/plain": "                                        name  \\\n0                    AutoML Natural Language   \n1                              AutoML Tables   \n2                         AutoML Translation   \n3   AutoML Video Intelligence Classification   \n4  AutoML Video Intelligence Object Tracking   \n\n                                                 url  \\\n0  https://cloud.google.com/automl-tables/docs/re...   \n1  https://cloud.google.com/natural-language/auto...   \n2  https://cloud.google.com/translate/automl/docs...   \n3  https://cloud.google.com/video-intelligence/au...   \n4  https://cloud.google.com/video-intelligence/au...   \n\n                                             xml_url  \\\n0  https://cloud.google.com/feeds/automl-tables-r...   \n1  https://cloud.google.com/feeds/automl-language...   \n2  https://cloud.google.com/feeds/automl-translat...   \n3  https://cloud.google.com/feeds/automl-video-in...   \n4  https://cloud.google.com/feeds/automl-video-in...   \n\n                                            datapack  \n0  [{'release_date': 'April 03, 2020', 'content':...  \n1  [{'release_date': 'April 03, 2020', 'content':...  \n2  [{'release_date': 'April 03, 2020', 'content':...  \n3  [{'release_date': 'April 10, 2019', 'content':...  \n4  [{'release_date': 'September 23, 2019', 'conte...  ",
      "text/html": "<div>\n<style scoped>\n    .dataframe tbody tr th:only-of-type {\n        vertical-align: middle;\n    }\n\n    .dataframe tbody tr th {\n        vertical-align: top;\n    }\n\n    .dataframe thead th {\n        text-align: right;\n    }\n</style>\n<table border=\"1\" class=\"dataframe\">\n  <thead>\n    <tr style=\"text-align: right;\">\n      <th></th>\n      <th>name</th>\n      <th>url</th>\n      <th>xml_url</th>\n      <th>datapack</th>\n    </tr>\n  </thead>\n  <tbody>\n    <tr>\n      <th>0</th>\n      <td>AutoML Natural Language</td>\n      <td>https://cloud.google.com/automl-tables/docs/re...</td>\n      <td>https://cloud.google.com/feeds/automl-tables-r...</td>\n      <td>[{'release_date': 'April 03, 2020', 'content':...</td>\n    </tr>\n    <tr>\n      <th>1</th>\n      <td>AutoML Tables</td>\n      <td>https://cloud.google.com/natural-language/auto...</td>\n      <td>https://cloud.google.com/feeds/automl-language...</td>\n      <td>[{'release_date': 'April 03, 2020', 'content':...</td>\n    </tr>\n    <tr>\n      <th>2</th>\n      <td>AutoML Translation</td>\n      <td>https://cloud.google.com/translate/automl/docs...</td>\n      <td>https://cloud.google.com/feeds/automl-translat...</td>\n      <td>[{'release_date': 'April 03, 2020', 'content':...</td>\n    </tr>\n    <tr>\n      <th>3</th>\n      <td>AutoML Video Intelligence Classification</td>\n      <td>https://cloud.google.com/video-intelligence/au...</td>\n      <td>https://cloud.google.com/feeds/automl-video-in...</td>\n      <td>[{'release_date': 'April 10, 2019', 'content':...</td>\n    </tr>\n    <tr>\n      <th>4</th>\n      <td>AutoML Video Intelligence Object Tracking</td>\n      <td>https://cloud.google.com/video-intelligence/au...</td>\n      <td>https://cloud.google.com/feeds/automl-video-in...</td>\n      <td>[{'release_date': 'September 23, 2019', 'conte...</td>\n    </tr>\n  </tbody>\n</table>\n</div>"
     },
     "metadata": {},
     "execution_count": 12
    }
   ],
   "source": [
    "final_df=xml_df[xml_df[\"datapack\"]!=\"corrupted\"]\n",
    "final_df.head()"
   ]
  },
  {
   "cell_type": "code",
   "execution_count": 16,
   "metadata": {},
   "outputs": [
    {
     "output_type": "execute_result",
     "data": {
      "text/plain": "collections.OrderedDict"
     },
     "metadata": {},
     "execution_count": 16
    }
   ],
   "source": [
    "type(final_df.datapack[0][0])"
   ]
  },
  {
   "cell_type": "code",
   "execution_count": 18,
   "metadata": {},
   "outputs": [
    {
     "output_type": "execute_result",
     "data": {
      "text/plain": "{'release_date': 'November 21, 2019',\n 'content': OrderedDict([('@type', 'html'),\n              ('#text',\n               '<h3>Feature</h3>\\n<p>As part of AI Explanations, AutoML Tables now provides the option to show how each feature impacted an online prediction. This capability is called local feature importance, and is calculated using the Sampled Shapley method. <a href=\"https://cloud.google.com/automl-tables/docs/features#local\">Learn more</a>.</p>')]),\n 'status': 'Feature',\n 'description': 'Feature\\nAs part of AI Explanations, AutoML Tables now provides the option to show how each feature impacted an online prediction. This capability is called local feature importance, and is calculated using the Sampled Shapley method. Learn more.'}"
     },
     "metadata": {},
     "execution_count": 18
    }
   ],
   "source": [
    "final_df.datapack[0][1]"
   ]
  },
  {
   "cell_type": "code",
   "execution_count": 23,
   "metadata": {},
   "outputs": [
    {
     "output_type": "stream",
     "name": "stdout",
     "text": "@type html\n#text <h3>Feature</h3>\n<p>As part of AI Explanations, AutoML Tables now provides the option to show how each feature impacted an online prediction. This capability is called local feature importance, and is calculated using the Sampled Shapley method. <a href=\"https://cloud.google.com/automl-tables/docs/features#local\">Learn more</a>.</p>\n"
    }
   ],
   "source": [
    "for key,value in final_df.datapack[0][1]['content'].items():\n",
    "    print(key, value)"
   ]
  },
  {
   "cell_type": "code",
   "execution_count": 26,
   "metadata": {},
   "outputs": [
    {
     "output_type": "execute_result",
     "data": {
      "text/plain": "dict_keys(['release_date', 'content', 'status', 'description'])"
     },
     "metadata": {},
     "execution_count": 26
    }
   ],
   "source": [
    "final_df.datapack[0][1].keys()"
   ]
  },
  {
   "cell_type": "code",
   "execution_count": 24,
   "metadata": {},
   "outputs": [
    {
     "output_type": "execute_result",
     "data": {
      "text/plain": "Index(['name', 'url', 'xml_url', 'datapack'], dtype='object')"
     },
     "metadata": {},
     "execution_count": 24
    }
   ],
   "source": [
    "final_df.columns"
   ]
  },
  {
   "cell_type": "code",
   "execution_count": 165,
   "metadata": {},
   "outputs": [
    {
     "output_type": "execute_result",
     "data": {
      "text/plain": "datetime.datetime(2020, 1, 2, 0, 0)"
     },
     "metadata": {},
     "execution_count": 165
    }
   ],
   "source": [
    "datetime.strptime('January 02 2020', '%B %d %Y')"
   ]
  },
  {
   "cell_type": "code",
   "execution_count": 166,
   "metadata": {},
   "outputs": [],
   "source": [
    "unpacked_df = pd.DataFrame(columns=['release_date', 'name', 'url', 'xml_url', 'status', 'description' ])"
   ]
  },
  {
   "cell_type": "code",
   "execution_count": 167,
   "metadata": {},
   "outputs": [],
   "source": [
    "\n",
    "\n",
    "def convert_to_datetime(date_string):\n",
    "    \n",
    "    try:\n",
    "        peices = date_string.split(',')\n",
    "        date_string = ''.join(peices)\n",
    "        date_of_release = datetime.strptime(date_string, '%B %d %Y')\n",
    "        return date_of_release\n",
    "    except:\n",
    "        try:\n",
    "            date_of_release = datetime.strptime(date_string, '%b %d %Y')\n",
    "            return date_of_release\n",
    "        except:\n",
    "            try:\n",
    "                date_of_release = datetime.strptime(date_string, '%B %Y')\n",
    "                return date_of_release\n",
    "            except:\n",
    "                return dateparser.parse(date_string)\n",
    "        "
   ]
  },
  {
   "cell_type": "code",
   "execution_count": 168,
   "metadata": {
    "tags": [
     "outputPrepend",
     "outputPrepend",
     "outputPrepend",
     "outputPrepend",
     "outputPrepend",
     "outputPrepend",
     "outputPrepend",
     "outputPrepend",
     "outputPrepend",
     "outputPrepend",
     "outputPrepend",
     "outputPrepend",
     "outputPrepend",
     "outputPrepend",
     "outputPrepend",
     "outputPrepend",
     "outputPrepend",
     "outputPrepend",
     "outputPrepend",
     "outputPrepend",
     "outputPrepend",
     "outputPrepend",
     "outputPrepend",
     "outputPrepend",
     "outputPrepend",
     "outputPrepend",
     "outputPrepend",
     "outputPrepend",
     "outputPrepend",
     "outputPrepend",
     "outputPrepend",
     "outputPrepend",
     "outputPrepend",
     "outputPrepend",
     "outputPrepend",
     "outputPrepend",
     "outputPrepend",
     "outputPrepend",
     "outputPrepend",
     "outputPrepend",
     "outputPrepend",
     "outputPrepend",
     "outputPrepend",
     "outputPrepend",
     "outputPrepend",
     "outputPrepend",
     "outputPrepend",
     "outputPrepend",
     "outputPrepend",
     "outputPrepend",
     "outputPrepend",
     "outputPrepend",
     "outputPrepend",
     "outputPrepend",
     "outputPrepend",
     "outputPrepend",
     "outputPrepend",
     "outputPrepend",
     "outputPrepend",
     "outputPrepend",
     "outputPrepend",
     "outputPrepend",
     "outputPrepend",
     "outputPrepend",
     "outputPrepend",
     "outputPrepend",
     "outputPrepend",
     "outputPrepend"
    ]
   },
   "outputs": [],
   "source": [
    "for index, row in final_df.iterrows():\n",
    "    # print(row[3][0])\n",
    "    # print()\n",
    "    for release in row[3]:\n",
    "        new_row = {}\n",
    "        new_row['name'] = row[0]\n",
    "        new_row['url'] = row[1]\n",
    "        new_row['xml_url'] = row[2]\n",
    "\n",
    "        date_string = release['release_date']\n",
    "        rel_date = convert_to_datetime(date_string)\n",
    "        new_row['release_date'] = rel_date\n",
    "\n",
    "        new_row['status'] = release['status']\n",
    "        new_row['description'] = release['description']\n",
    "        unpacked_df = unpacked_df.append(new_row, ignore_index = True)\n"
   ]
  },
  {
   "cell_type": "code",
   "execution_count": 169,
   "metadata": {},
   "outputs": [],
   "source": [
    "unpacked_df = unpacked_df.sort_values(by=['release_date'], ascending = False, ignore_index = True)"
   ]
  },
  {
   "cell_type": "code",
   "execution_count": 170,
   "metadata": {},
   "outputs": [
    {
     "output_type": "execute_result",
     "data": {
      "text/plain": "17"
     },
     "metadata": {},
     "execution_count": 170
    }
   ],
   "source": [
    "unpacked_df.release_date.isna().sum()"
   ]
  },
  {
   "cell_type": "code",
   "execution_count": 171,
   "metadata": {},
   "outputs": [
    {
     "output_type": "execute_result",
     "data": {
      "text/plain": "  release_date                        name  \\\n0   2020-05-06            Traffic Director   \n1   2020-05-06            Traffic Director   \n2   2020-05-05                  Dialogflow   \n3   2020-05-04         Cloud SQL for MySQL   \n4   2020-05-04  Cloud Data Loss Prevention   \n\n                                                 url  \\\n0  https://cloud.google.com/traffic-director/docs...   \n1  https://cloud.google.com/traffic-director/docs...   \n2  https://cloud.google.com/dialogflow/docs/relea...   \n3  https://cloud.google.com/sql/docs/mysql/releas...   \n4    https://cloud.google.com/dlp/docs/release-notes   \n\n                                             xml_url      status  \\\n0  https://cloud.google.com/feeds/trafficdirector...     Feature   \n1  https://cloud.google.com/feeds/trafficdirector...     Feature   \n2  https://cloud.google.com/feeds/dialogflow-rele...     Feature   \n3  https://cloud.google.com/feeds/cloud-sql-mysql...  Deprecated   \n4  https://cloud.google.com/feeds/dlp-release-not...     Changed   \n\n                                         description  \n0  Feature\\nA new document is added to Traffic Di...  \n1  Feature\\nA new document is added to Traffic Di...  \n2  Feature\\nGA (general availability) launch of a...  \n3  Deprecated\\nAs previously announced, Cloud SQL...  \n4  Changed\\nWe have made quality and performance ...  ",
      "text/html": "<div>\n<style scoped>\n    .dataframe tbody tr th:only-of-type {\n        vertical-align: middle;\n    }\n\n    .dataframe tbody tr th {\n        vertical-align: top;\n    }\n\n    .dataframe thead th {\n        text-align: right;\n    }\n</style>\n<table border=\"1\" class=\"dataframe\">\n  <thead>\n    <tr style=\"text-align: right;\">\n      <th></th>\n      <th>release_date</th>\n      <th>name</th>\n      <th>url</th>\n      <th>xml_url</th>\n      <th>status</th>\n      <th>description</th>\n    </tr>\n  </thead>\n  <tbody>\n    <tr>\n      <th>0</th>\n      <td>2020-05-06</td>\n      <td>Traffic Director</td>\n      <td>https://cloud.google.com/traffic-director/docs...</td>\n      <td>https://cloud.google.com/feeds/trafficdirector...</td>\n      <td>Feature</td>\n      <td>Feature\\nA new document is added to Traffic Di...</td>\n    </tr>\n    <tr>\n      <th>1</th>\n      <td>2020-05-06</td>\n      <td>Traffic Director</td>\n      <td>https://cloud.google.com/traffic-director/docs...</td>\n      <td>https://cloud.google.com/feeds/trafficdirector...</td>\n      <td>Feature</td>\n      <td>Feature\\nA new document is added to Traffic Di...</td>\n    </tr>\n    <tr>\n      <th>2</th>\n      <td>2020-05-05</td>\n      <td>Dialogflow</td>\n      <td>https://cloud.google.com/dialogflow/docs/relea...</td>\n      <td>https://cloud.google.com/feeds/dialogflow-rele...</td>\n      <td>Feature</td>\n      <td>Feature\\nGA (general availability) launch of a...</td>\n    </tr>\n    <tr>\n      <th>3</th>\n      <td>2020-05-04</td>\n      <td>Cloud SQL for MySQL</td>\n      <td>https://cloud.google.com/sql/docs/mysql/releas...</td>\n      <td>https://cloud.google.com/feeds/cloud-sql-mysql...</td>\n      <td>Deprecated</td>\n      <td>Deprecated\\nAs previously announced, Cloud SQL...</td>\n    </tr>\n    <tr>\n      <th>4</th>\n      <td>2020-05-04</td>\n      <td>Cloud Data Loss Prevention</td>\n      <td>https://cloud.google.com/dlp/docs/release-notes</td>\n      <td>https://cloud.google.com/feeds/dlp-release-not...</td>\n      <td>Changed</td>\n      <td>Changed\\nWe have made quality and performance ...</td>\n    </tr>\n  </tbody>\n</table>\n</div>"
     },
     "metadata": {},
     "execution_count": 171
    }
   ],
   "source": [
    "unpacked_df.head()"
   ]
  },
  {
   "cell_type": "code",
   "execution_count": 172,
   "metadata": {},
   "outputs": [
    {
     "output_type": "execute_result",
     "data": {
      "text/plain": "     release_date                        name  \\\n2367   2013-09-01                   Datastore   \n2368   2013-07-01                   Datastore   \n2369   2013-05-01                   Datastore   \n2370          NaT  Migrate for Compute Engine   \n2371          NaT  Migrate for Compute Engine   \n2372          NaT  Migrate for Compute Engine   \n2373          NaT     Cloud Code for IntelliJ   \n2374          NaT     Cloud Code for IntelliJ   \n2375          NaT     Cloud Code for IntelliJ   \n2376          NaT     Cloud Code for IntelliJ   \n2377          NaT    Anthos Config Management   \n2378          NaT    Anthos Config Management   \n2379          NaT    Anthos Config Management   \n2380          NaT    Anthos Config Management   \n2381          NaT    Anthos Config Management   \n2382          NaT    Anthos Config Management   \n2383          NaT    Anthos Config Management   \n2384          NaT  Migrate for Compute Engine   \n2385          NaT  Migrate for Compute Engine   \n2386          NaT  Migrate for Compute Engine   \n\n                                                    url  \\\n2367   https://cloud.google.com/datastore/release-notes   \n2368   https://cloud.google.com/datastore/release-notes   \n2369   https://cloud.google.com/datastore/release-notes   \n2370  https://cloud.google.com/migrate/compute-engin...   \n2371  https://cloud.google.com/migrate/compute-engin...   \n2372  https://cloud.google.com/migrate/compute-engin...   \n2373  https://cloud.google.com/code/docs/intellij/re...   \n2374  https://cloud.google.com/code/docs/intellij/re...   \n2375  https://cloud.google.com/code/docs/intellij/re...   \n2376  https://cloud.google.com/code/docs/intellij/re...   \n2377  https://cloud.google.com/anthos-config-managem...   \n2378  https://cloud.google.com/anthos-config-managem...   \n2379  https://cloud.google.com/anthos-config-managem...   \n2380  https://cloud.google.com/anthos-config-managem...   \n2381  https://cloud.google.com/anthos-config-managem...   \n2382  https://cloud.google.com/anthos-config-managem...   \n2383  https://cloud.google.com/anthos-config-managem...   \n2384  https://cloud.google.com/migrate/compute-engin...   \n2385  https://cloud.google.com/migrate/compute-engin...   \n2386  https://cloud.google.com/migrate/compute-engin...   \n\n                                                xml_url  \\\n2367  https://cloud.google.com/feeds/datastore-relea...   \n2368  https://cloud.google.com/feeds/datastore-relea...   \n2369  https://cloud.google.com/feeds/datastore-relea...   \n2370  https://cloud.google.com/feeds/migrate-for-com...   \n2371  https://cloud.google.com/feeds/migrate-for-com...   \n2372  https://cloud.google.com/feeds/migrate-for-com...   \n2373  https://cloud.google.com/feeds/cloud-code-for-...   \n2374  https://cloud.google.com/feeds/cloud-code-for-...   \n2375  https://cloud.google.com/feeds/cloud-code-for-...   \n2376  https://cloud.google.com/feeds/cloud-code-for-...   \n2377  https://cloud.google.com/feeds/anthos-config-m...   \n2378  https://cloud.google.com/feeds/anthos-config-m...   \n2379  https://cloud.google.com/feeds/anthos-config-m...   \n2380  https://cloud.google.com/feeds/anthos-config-m...   \n2381  https://cloud.google.com/feeds/anthos-config-m...   \n2382  https://cloud.google.com/feeds/anthos-config-m...   \n2383  https://cloud.google.com/feeds/anthos-config-m...   \n2384  https://cloud.google.com/feeds/migrate-for-com...   \n2385  https://cloud.google.com/feeds/migrate-for-com...   \n2386  https://cloud.google.com/feeds/migrate-for-com...   \n\n                            status  \\\n2367                       Changed   \n2368                       Changed   \n2369                       Changed   \n2370                       Feature   \n2371                  Fixed issues   \n2372                  Known Issues   \n2373                         Added   \n2374                         Added   \n2375                         Added   \n2376                         Added   \n2377                       Changes   \n2378                                 \n2379                  New features   \n2380  Versions no longer available   \n2381                     Upgrading   \n2382                  New features   \n2383                  New features   \n2384                       Feature   \n2385                  Fixed issues   \n2386                  Known Issues   \n\n                                            description  \n2367  Changed\\n\\nInitial release of Cloud Datastore ...  \n2368  Changed\\n\\nGQL support.\\nMetadata query suppor...  \n2369  Changed\\n\\nInitial public beta release (v1beta...  \n2370  Azure to Google Cloud migration (GA)Feature\\nV...  \n2371  Fixed issuesFixed\\nIn some scenarios, migratin...  \n2372  Known IssuesIssue\\n#143313211: Customer migrat...  \n2373  AddedApp Engine standard environment support (...  \n2374  AddedCheck to ensure that deployment is valid ...  \n2375  AddedDeploy to App Engine flexible compat envi...  \n2376  AddedDeploy to App Engine flexible environment...  \n2377  Anthos Config Management v1.2.1 is generally a...  \n2378  Anthos Config Management v1.2.0 is generally a...  \n2379  Anthos Config Management v1.1.0 is generally a...  \n2380  Anthos Config Management v1.0.0 is generally a...  \n2381  This is a maintenance release, and is compatib...  \n2382  This is the second beta release of Anthos Conf...  \n2383  This is the beta release of Anthos Config Mana...  \n2384  Azure to Google Cloud migration (GA)Feature\\nV...  \n2385  Fixed issuesFixed\\nIn some scenarios, migratin...  \n2386  Known IssuesIssue\\n#143313211: Customer migrat...  ",
      "text/html": "<div>\n<style scoped>\n    .dataframe tbody tr th:only-of-type {\n        vertical-align: middle;\n    }\n\n    .dataframe tbody tr th {\n        vertical-align: top;\n    }\n\n    .dataframe thead th {\n        text-align: right;\n    }\n</style>\n<table border=\"1\" class=\"dataframe\">\n  <thead>\n    <tr style=\"text-align: right;\">\n      <th></th>\n      <th>release_date</th>\n      <th>name</th>\n      <th>url</th>\n      <th>xml_url</th>\n      <th>status</th>\n      <th>description</th>\n    </tr>\n  </thead>\n  <tbody>\n    <tr>\n      <th>2367</th>\n      <td>2013-09-01</td>\n      <td>Datastore</td>\n      <td>https://cloud.google.com/datastore/release-notes</td>\n      <td>https://cloud.google.com/feeds/datastore-relea...</td>\n      <td>Changed</td>\n      <td>Changed\\n\\nInitial release of Cloud Datastore ...</td>\n    </tr>\n    <tr>\n      <th>2368</th>\n      <td>2013-07-01</td>\n      <td>Datastore</td>\n      <td>https://cloud.google.com/datastore/release-notes</td>\n      <td>https://cloud.google.com/feeds/datastore-relea...</td>\n      <td>Changed</td>\n      <td>Changed\\n\\nGQL support.\\nMetadata query suppor...</td>\n    </tr>\n    <tr>\n      <th>2369</th>\n      <td>2013-05-01</td>\n      <td>Datastore</td>\n      <td>https://cloud.google.com/datastore/release-notes</td>\n      <td>https://cloud.google.com/feeds/datastore-relea...</td>\n      <td>Changed</td>\n      <td>Changed\\n\\nInitial public beta release (v1beta...</td>\n    </tr>\n    <tr>\n      <th>2370</th>\n      <td>NaT</td>\n      <td>Migrate for Compute Engine</td>\n      <td>https://cloud.google.com/migrate/compute-engin...</td>\n      <td>https://cloud.google.com/feeds/migrate-for-com...</td>\n      <td>Feature</td>\n      <td>Azure to Google Cloud migration (GA)Feature\\nV...</td>\n    </tr>\n    <tr>\n      <th>2371</th>\n      <td>NaT</td>\n      <td>Migrate for Compute Engine</td>\n      <td>https://cloud.google.com/migrate/compute-engin...</td>\n      <td>https://cloud.google.com/feeds/migrate-for-com...</td>\n      <td>Fixed issues</td>\n      <td>Fixed issuesFixed\\nIn some scenarios, migratin...</td>\n    </tr>\n    <tr>\n      <th>2372</th>\n      <td>NaT</td>\n      <td>Migrate for Compute Engine</td>\n      <td>https://cloud.google.com/migrate/compute-engin...</td>\n      <td>https://cloud.google.com/feeds/migrate-for-com...</td>\n      <td>Known Issues</td>\n      <td>Known IssuesIssue\\n#143313211: Customer migrat...</td>\n    </tr>\n    <tr>\n      <th>2373</th>\n      <td>NaT</td>\n      <td>Cloud Code for IntelliJ</td>\n      <td>https://cloud.google.com/code/docs/intellij/re...</td>\n      <td>https://cloud.google.com/feeds/cloud-code-for-...</td>\n      <td>Added</td>\n      <td>AddedApp Engine standard environment support (...</td>\n    </tr>\n    <tr>\n      <th>2374</th>\n      <td>NaT</td>\n      <td>Cloud Code for IntelliJ</td>\n      <td>https://cloud.google.com/code/docs/intellij/re...</td>\n      <td>https://cloud.google.com/feeds/cloud-code-for-...</td>\n      <td>Added</td>\n      <td>AddedCheck to ensure that deployment is valid ...</td>\n    </tr>\n    <tr>\n      <th>2375</th>\n      <td>NaT</td>\n      <td>Cloud Code for IntelliJ</td>\n      <td>https://cloud.google.com/code/docs/intellij/re...</td>\n      <td>https://cloud.google.com/feeds/cloud-code-for-...</td>\n      <td>Added</td>\n      <td>AddedDeploy to App Engine flexible compat envi...</td>\n    </tr>\n    <tr>\n      <th>2376</th>\n      <td>NaT</td>\n      <td>Cloud Code for IntelliJ</td>\n      <td>https://cloud.google.com/code/docs/intellij/re...</td>\n      <td>https://cloud.google.com/feeds/cloud-code-for-...</td>\n      <td>Added</td>\n      <td>AddedDeploy to App Engine flexible environment...</td>\n    </tr>\n    <tr>\n      <th>2377</th>\n      <td>NaT</td>\n      <td>Anthos Config Management</td>\n      <td>https://cloud.google.com/anthos-config-managem...</td>\n      <td>https://cloud.google.com/feeds/anthos-config-m...</td>\n      <td>Changes</td>\n      <td>Anthos Config Management v1.2.1 is generally a...</td>\n    </tr>\n    <tr>\n      <th>2378</th>\n      <td>NaT</td>\n      <td>Anthos Config Management</td>\n      <td>https://cloud.google.com/anthos-config-managem...</td>\n      <td>https://cloud.google.com/feeds/anthos-config-m...</td>\n      <td></td>\n      <td>Anthos Config Management v1.2.0 is generally a...</td>\n    </tr>\n    <tr>\n      <th>2379</th>\n      <td>NaT</td>\n      <td>Anthos Config Management</td>\n      <td>https://cloud.google.com/anthos-config-managem...</td>\n      <td>https://cloud.google.com/feeds/anthos-config-m...</td>\n      <td>New features</td>\n      <td>Anthos Config Management v1.1.0 is generally a...</td>\n    </tr>\n    <tr>\n      <th>2380</th>\n      <td>NaT</td>\n      <td>Anthos Config Management</td>\n      <td>https://cloud.google.com/anthos-config-managem...</td>\n      <td>https://cloud.google.com/feeds/anthos-config-m...</td>\n      <td>Versions no longer available</td>\n      <td>Anthos Config Management v1.0.0 is generally a...</td>\n    </tr>\n    <tr>\n      <th>2381</th>\n      <td>NaT</td>\n      <td>Anthos Config Management</td>\n      <td>https://cloud.google.com/anthos-config-managem...</td>\n      <td>https://cloud.google.com/feeds/anthos-config-m...</td>\n      <td>Upgrading</td>\n      <td>This is a maintenance release, and is compatib...</td>\n    </tr>\n    <tr>\n      <th>2382</th>\n      <td>NaT</td>\n      <td>Anthos Config Management</td>\n      <td>https://cloud.google.com/anthos-config-managem...</td>\n      <td>https://cloud.google.com/feeds/anthos-config-m...</td>\n      <td>New features</td>\n      <td>This is the second beta release of Anthos Conf...</td>\n    </tr>\n    <tr>\n      <th>2383</th>\n      <td>NaT</td>\n      <td>Anthos Config Management</td>\n      <td>https://cloud.google.com/anthos-config-managem...</td>\n      <td>https://cloud.google.com/feeds/anthos-config-m...</td>\n      <td>New features</td>\n      <td>This is the beta release of Anthos Config Mana...</td>\n    </tr>\n    <tr>\n      <th>2384</th>\n      <td>NaT</td>\n      <td>Migrate for Compute Engine</td>\n      <td>https://cloud.google.com/migrate/compute-engin...</td>\n      <td>https://cloud.google.com/feeds/migrate-for-com...</td>\n      <td>Feature</td>\n      <td>Azure to Google Cloud migration (GA)Feature\\nV...</td>\n    </tr>\n    <tr>\n      <th>2385</th>\n      <td>NaT</td>\n      <td>Migrate for Compute Engine</td>\n      <td>https://cloud.google.com/migrate/compute-engin...</td>\n      <td>https://cloud.google.com/feeds/migrate-for-com...</td>\n      <td>Fixed issues</td>\n      <td>Fixed issuesFixed\\nIn some scenarios, migratin...</td>\n    </tr>\n    <tr>\n      <th>2386</th>\n      <td>NaT</td>\n      <td>Migrate for Compute Engine</td>\n      <td>https://cloud.google.com/migrate/compute-engin...</td>\n      <td>https://cloud.google.com/feeds/migrate-for-com...</td>\n      <td>Known Issues</td>\n      <td>Known IssuesIssue\\n#143313211: Customer migrat...</td>\n    </tr>\n  </tbody>\n</table>\n</div>"
     },
     "metadata": {},
     "execution_count": 172
    }
   ],
   "source": [
    "unpacked_df.tail(20)"
   ]
  },
  {
   "cell_type": "code",
   "execution_count": 184,
   "metadata": {},
   "outputs": [],
   "source": [
    "def find_data_in_range(start_date, end_date):\n",
    "    start = datetime.strptime(start_date, '%Y-%m-%d')\n",
    "    end = datetime.strptime(end_date, '%Y-%m-%d')\n",
    "    ret_df = unpacked_df[(unpacked_df.release_date >= start) & (unpacked_df.release_date <= end)]\n",
    "    return ret_df"
   ]
  },
  {
   "cell_type": "code",
   "execution_count": 185,
   "metadata": {},
   "outputs": [
    {
     "output_type": "execute_result",
     "data": {
      "text/plain": "    release_date                         name  \\\n731   2020-01-02             Config Connector   \n732   2020-01-01  Virtual Private Cloud (VPC)   \n733   2020-01-01              Cloud Endpoints   \n\n                                                   url  \\\n731  https://cloud.google.com/config-connector/docs...   \n732    https://cloud.google.com/vpc/docs/release-notes   \n733  https://cloud.google.com/endpoints/docs/releas...   \n\n                                               xml_url  \\\n731  https://cloud.google.com/feeds/configconnector...   \n732  https://cloud.google.com/feeds/vpc-release-not...   \n733  https://cloud.google.com/feeds/cloud-endpoints...   \n\n                                      status  \\\n731                                  Feature   \n732                                  Changed   \n733  gRPC support for Cloud Run added (Beta)   \n\n                                           description  \n731  Feature\\nAdded external resource reference sup...  \n732  Changed\\nGoogle now charges for static externa...  \n733  gRPC support for Cloud Run added (Beta)Added s...  ",
      "text/html": "<div>\n<style scoped>\n    .dataframe tbody tr th:only-of-type {\n        vertical-align: middle;\n    }\n\n    .dataframe tbody tr th {\n        vertical-align: top;\n    }\n\n    .dataframe thead th {\n        text-align: right;\n    }\n</style>\n<table border=\"1\" class=\"dataframe\">\n  <thead>\n    <tr style=\"text-align: right;\">\n      <th></th>\n      <th>release_date</th>\n      <th>name</th>\n      <th>url</th>\n      <th>xml_url</th>\n      <th>status</th>\n      <th>description</th>\n    </tr>\n  </thead>\n  <tbody>\n    <tr>\n      <th>731</th>\n      <td>2020-01-02</td>\n      <td>Config Connector</td>\n      <td>https://cloud.google.com/config-connector/docs...</td>\n      <td>https://cloud.google.com/feeds/configconnector...</td>\n      <td>Feature</td>\n      <td>Feature\\nAdded external resource reference sup...</td>\n    </tr>\n    <tr>\n      <th>732</th>\n      <td>2020-01-01</td>\n      <td>Virtual Private Cloud (VPC)</td>\n      <td>https://cloud.google.com/vpc/docs/release-notes</td>\n      <td>https://cloud.google.com/feeds/vpc-release-not...</td>\n      <td>Changed</td>\n      <td>Changed\\nGoogle now charges for static externa...</td>\n    </tr>\n    <tr>\n      <th>733</th>\n      <td>2020-01-01</td>\n      <td>Cloud Endpoints</td>\n      <td>https://cloud.google.com/endpoints/docs/releas...</td>\n      <td>https://cloud.google.com/feeds/cloud-endpoints...</td>\n      <td>gRPC support for Cloud Run added (Beta)</td>\n      <td>gRPC support for Cloud Run added (Beta)Added s...</td>\n    </tr>\n  </tbody>\n</table>\n</div>"
     },
     "metadata": {},
     "execution_count": 185
    }
   ],
   "source": [
    "jan1_2 = find_data_in_range('2020-01-01', '2020-01-02')\n",
    "jan1_2"
   ]
  },
  {
   "cell_type": "code",
   "execution_count": 187,
   "metadata": {},
   "outputs": [],
   "source": [
    "unpacked_df.to_csv('flattened_v2.csv')"
   ]
  }
 ],
 "metadata": {
  "kernelspec": {
   "display_name": "Python 3.8.1 32-bit",
   "language": "python",
   "name": "python38132bitd5c2409ef0c147a0a133e9dc79a195ba"
  },
  "language_info": {
   "codemirror_mode": {
    "name": "ipython",
    "version": 3
   },
   "file_extension": ".py",
   "mimetype": "text/x-python",
   "name": "python",
   "nbconvert_exporter": "python",
   "pygments_lexer": "ipython3",
   "version": "3.8.1-final"
  }
 },
 "nbformat": 4,
 "nbformat_minor": 2
}