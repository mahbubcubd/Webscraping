{
 "cells": [
  {
   "cell_type": "code",
   "execution_count": 2,
   "metadata": {},
   "outputs": [],
   "source": [
    "import xml.etree.ElementTree as ET\n",
    "import requests as rq"
   ]
  },
  {
   "cell_type": "code",
   "execution_count": 4,
   "metadata": {},
   "outputs": [],
   "source": [
    "url = 'https://cloud.google.com/feeds/aiplatform-release-notes.xml'\n",
    "# creating HTTP response object from given url \n",
    "resp = rq.get(url) \n",
    "  \n",
    "# saving the xml file \n",
    "with open('release.xml', 'wb') as f: \n",
    "    f.write(resp.content) "
   ]
  },
  {
   "cell_type": "code",
   "execution_count": 5,
   "metadata": {},
   "outputs": [],
   "source": [
    "# create element tree object \n",
    "tree = ET.parse('aiplatform-release-notes.xml') \n",
    "  \n",
    "# get root element \n",
    "root = tree.getroot() "
   ]
  },
  {
   "cell_type": "code",
   "execution_count": 6,
   "metadata": {},
   "outputs": [
    {
     "output_type": "stream",
     "name": "stdout",
     "text": "<xml.etree.ElementTree.ElementTree object at 0x0711D478>\n"
    }
   ],
   "source": [
    "print(tree)"
   ]
  },
  {
   "cell_type": "code",
   "execution_count": 7,
   "metadata": {},
   "outputs": [
    {
     "output_type": "execute_result",
     "data": {
      "text/plain": "'{http://www.w3.org/2005/Atom}feed'"
     },
     "metadata": {},
     "execution_count": 7
    }
   ],
   "source": [
    "root.tag"
   ]
  },
  {
   "cell_type": "code",
   "execution_count": 8,
   "metadata": {},
   "outputs": [
    {
     "output_type": "stream",
     "name": "stdout",
     "text": "{http://www.w3.org/2005/Atom}id\n{http://www.w3.org/2005/Atom}title\n{http://www.w3.org/2005/Atom}link\n{http://www.w3.org/2005/Atom}author\n{http://www.w3.org/2005/Atom}updated\n{http://www.w3.org/2005/Atom}entry\n{http://www.w3.org/2005/Atom}entry\n{http://www.w3.org/2005/Atom}entry\n{http://www.w3.org/2005/Atom}entry\n{http://www.w3.org/2005/Atom}entry\n{http://www.w3.org/2005/Atom}entry\n{http://www.w3.org/2005/Atom}entry\n{http://www.w3.org/2005/Atom}entry\n{http://www.w3.org/2005/Atom}entry\n{http://www.w3.org/2005/Atom}entry\n{http://www.w3.org/2005/Atom}entry\n{http://www.w3.org/2005/Atom}entry\n{http://www.w3.org/2005/Atom}entry\n{http://www.w3.org/2005/Atom}entry\n{http://www.w3.org/2005/Atom}entry\n{http://www.w3.org/2005/Atom}entry\n{http://www.w3.org/2005/Atom}entry\n{http://www.w3.org/2005/Atom}entry\n{http://www.w3.org/2005/Atom}entry\n{http://www.w3.org/2005/Atom}entry\n{http://www.w3.org/2005/Atom}entry\n{http://www.w3.org/2005/Atom}entry\n{http://www.w3.org/2005/Atom}entry\n{http://www.w3.org/2005/Atom}entry\n{http://www.w3.org/2005/Atom}entry\n{http://www.w3.org/2005/Atom}entry\n{http://www.w3.org/2005/Atom}entry\n{http://www.w3.org/2005/Atom}entry\n{http://www.w3.org/2005/Atom}entry\n{http://www.w3.org/2005/Atom}entry\n"
    }
   ],
   "source": [
    "for child in root:\n",
    "    print(child.tag)"
   ]
  },
  {
   "cell_type": "code",
   "execution_count": 9,
   "metadata": {},
   "outputs": [],
   "source": [
    "titles = []\n",
    "contents = []"
   ]
  },
  {
   "cell_type": "code",
   "execution_count": 10,
   "metadata": {
    "tags": [
     "outputPrepend"
    ]
   },
   "outputs": [
    {
     "output_type": "stream",
     "name": "stdout",
     "text": "April 06, 2020\n\n<strong class=\"release-note-product-title\">AI Platform Prediction</strong>\n<h3>Feature</h3>\n<p>AI Platform Prediction now supports several <a href=\"https://cloud.google.com/ai-platform/prediction/docs/regional-endpoints\">regional endpoints</a> for online prediction. Regional endpoints provide additional protection against outages in other regions by isolating your model and version resources from other regions. The following regional endpoints are available in beta:</p>\n\n<ul>\n<li><code>us-central1-ml.googleapis.com</code></li>\n<li><code>europe-west4-ml.googleapis.com</code></li>\n<li><code>asia-east1-ml.googleapis.com</code></li>\n</ul>\n\n<p>You can use these endpoints instead of the global endpoint, <code>ml.googleapis.com</code>, when you use AI Platform Prediction for online prediction. <a href=\"https://cloud.google.com/ai-platform/prediction/docs/regional-endpoints\">Learn how to use regional endpoints for online prediction, and read about their benefits and limitations.</a></p>\n<h3>Feature</h3>\n<p>You can now deploy scikit-learn and XGBoost models for online prediction using  <a href=\"https://cloud.google.com/ai-platform/prediction/docs/machine-types-online-prediction\">Compute Engine (N1) machine types</a>. Previously, you could only deploy TensorFlow models when you used these machine types. Learn more about <a href=\"https://cloud.google.com/ai-platform/prediction/docs/machine-types-online-prediction#ml_framework_support\">ML framework support for Compute Engine (N1) machine types</a>.</p>\n\n<p>You cannot use GPUs with scikit-learn or XGBoost models, and you can only use scikit-learn and XGBoost models with Compute Engine (N1) machine types when you deploy your models and versions to a  <a href=\"https://cloud.google.com/ai-platform/prediction/docs/regional-endpoints\">regional endpoint</a>.</p>\n\n<p>Compute Engine (N1) machine types for online prediction remain available in the beta launch stage.</p>\n<h3>Feature</h3>\n<p>The <code>europe-west4</code> (Netherlands) and <code>asia-east1</code> (Taiwan) regions are now available for online prediction. These regions are only available for online prediction on their respective <a href=\"https://cloud.google.com/ai-platform/prediction/docs/regional-endpoints\">regional endpoints</a>, and you can only use <a href=\"https://cloud.google.com/ai-platform/prediction/docs/machine-types-online-prediction\">Compute Engine (N1) machine types</a> for online prediction in these regions.</p>\n\n<p>When you deploy model versions in the <code>europe-west4</code> region, you can optionally use NVIDIA Tesla P4,  NVIDIA Tesla T4, or NVIDIA Tesla V100 GPUs to accelerate prediction.</p>\n\n<p>When you deploy model versions in the <code>asia-east1</code> region, you can optionally use NVIDIA Tesla K80 or NVIDIA Tesla P100 GPUs to accelerate prediction.</p>\n\n<p>Learn more about <a href=\"https://cloud.google.com/ai-platform/prediction/docs/machine-types-online-prediction#gpus\">using GPUs for online prediction</a>, and see <a href=\"https://cloud.google.com/ai-platform/prediction/docs/regions\">which GPUs are available in which regions</a>.</p>\n\n<p>Learn about the <a href=\"https://cloud.google.com/ai-platform/prediction/pricing\">pricing for the newly available regions and GPU resources</a>.</p>\n<h3>Changed</h3>\n<p>We recommend against using Compute Engine (N1) machine types on the AI Platform Prediction global endpoint. Instead, only use Compute Engine (N1) machine types when you deploy models and versions to a <a href=\"https://cloud.google.com/ai-platform/prediction/docs/regional-endpoints\">regional endpoint</a>.</p>\n\n<p>Model versions that use Compute Engine (N1) machine types and were previously deployed to the <code>us-central1</code> region on the global endpoint will continue to function.</p>\n\n    \n"
    }
   ],
   "source": [
    "for item in root.findall('{http://www.w3.org/2005/Atom}entry'):\n",
    "    for child in item:\n",
    "        # print(child.tag , '  ', child.text)\n",
    "        # print(child.attrib)\n",
    "        if (child.tag == '{http://www.w3.org/2005/Atom}title'):\n",
    "            titles.append(child.text)\n",
    "        if (child.tag == '{http://www.w3.org/2005/Atom}content'):\n",
    "            contents.append(child.text)\n",
    "print(titles[5])\n",
    "print()\n",
    "print(contents[0])"
   ]
  },
  {
   "cell_type": "code",
   "execution_count": 11,
   "metadata": {},
   "outputs": [
    {
     "output_type": "stream",
     "name": "stdout",
     "text": "30\n[datetime.date(2020, 4, 29), datetime.date(2020, 4, 24), datetime.date(2020, 4, 13), datetime.date(2020, 4, 9), datetime.date(2020, 4, 8)]\n"
    }
   ],
   "source": [
    "#edit titles to valid dates in this cell\n",
    "from datetime import datetime\n",
    "\n",
    "dates_of_release = []\n",
    "for title in titles:\n",
    "    peices = title.split()\n",
    "    peices[1] = peices[1][:2]\n",
    "    title = ' '.join(peices)\n",
    "    #print(title)\n",
    "    date_of_release = datetime.strptime(title, '%B %d %Y').date()\n",
    "    #print(date_of_release)\n",
    "    dates_of_release.append(date_of_release)\n",
    "print(len(dates_of_release))\n",
    "print(dates_of_release[0:5])"
   ]
  },
  {
   "cell_type": "code",
   "execution_count": 18,
   "metadata": {},
   "outputs": [
    {
     "output_type": "execute_result",
     "data": {
      "text/plain": "['AI Platform Prediction',\n 'AI Platform Prediction',\n 'AI Platform Prediction',\n 'AI Platform Prediction',\n 'AI Platform Optimizer']"
     },
     "metadata": {},
     "execution_count": 18
    }
   ],
   "source": [
    "#In this cell get the release descriptions\n",
    "from bs4 import BeautifulSoup\n",
    "release_descriptions = []\n",
    "for content in contents:\n",
    "    content = '<!doctype html>\\n<html lang=\"en\">\\n<head>\\n<title>1</title>\\n</head>\\n' + content + '</html>'\n",
    "    #print(content)\n",
    "    html_soup = BeautifulSoup(content, 'html.parser')\n",
    "    release_descriptions.append(html_soup.strong.text)\n",
    "    # print(type(html_soup))\n",
    "    # print(html_soup.strong.text)\n",
    "release_descriptions[:5]"
   ]
  },
  {
   "cell_type": "code",
   "execution_count": 19,
   "metadata": {},
   "outputs": [
    {
     "output_type": "stream",
     "name": "stdout",
     "text": "30\n"
    }
   ],
   "source": [
    "print(len(release_descriptions))"
   ]
  },
  {
   "cell_type": "code",
   "execution_count": 20,
   "metadata": {},
   "outputs": [],
   "source": [
    "import pandas as pd\n",
    "releases_df = pd.DataFrame({'Date of release': dates_of_release,\n",
    "'Release description': release_descriptions\n",
    "})"
   ]
  },
  {
   "cell_type": "code",
   "execution_count": 22,
   "metadata": {},
   "outputs": [
    {
     "output_type": "execute_result",
     "data": {
      "text/plain": "   Date of release     Release description\n25      2020-01-07  AI Platform Prediction\n26      2019-12-20    AI Platform Training\n27      2019-12-19  AI Platform Prediction\n28      2019-12-10  AI Platform Prediction\n29      2019-12-03  AI Platform Prediction",
      "text/html": "<div>\n<style scoped>\n    .dataframe tbody tr th:only-of-type {\n        vertical-align: middle;\n    }\n\n    .dataframe tbody tr th {\n        vertical-align: top;\n    }\n\n    .dataframe thead th {\n        text-align: right;\n    }\n</style>\n<table border=\"1\" class=\"dataframe\">\n  <thead>\n    <tr style=\"text-align: right;\">\n      <th></th>\n      <th>Date of release</th>\n      <th>Release description</th>\n    </tr>\n  </thead>\n  <tbody>\n    <tr>\n      <th>25</th>\n      <td>2020-01-07</td>\n      <td>AI Platform Prediction</td>\n    </tr>\n    <tr>\n      <th>26</th>\n      <td>2019-12-20</td>\n      <td>AI Platform Training</td>\n    </tr>\n    <tr>\n      <th>27</th>\n      <td>2019-12-19</td>\n      <td>AI Platform Prediction</td>\n    </tr>\n    <tr>\n      <th>28</th>\n      <td>2019-12-10</td>\n      <td>AI Platform Prediction</td>\n    </tr>\n    <tr>\n      <th>29</th>\n      <td>2019-12-03</td>\n      <td>AI Platform Prediction</td>\n    </tr>\n  </tbody>\n</table>\n</div>"
     },
     "metadata": {},
     "execution_count": 22
    }
   ],
   "source": [
    "releases_df.tail()"
   ]
  },
  {
   "cell_type": "code",
   "execution_count": 24,
   "metadata": {},
   "outputs": [],
   "source": [
    "releases_df.to_csv('out_releases.csv')"
   ]
  }
 ],
 "metadata": {
  "language_info": {
   "codemirror_mode": {
    "name": "ipython",
    "version": 3
   },
   "file_extension": ".py",
   "mimetype": "text/x-python",
   "name": "python",
   "nbconvert_exporter": "python",
   "pygments_lexer": "ipython3",
   "version": "3.8.1-final"
  },
  "orig_nbformat": 2,
  "kernelspec": {
   "name": "python38132bitd5c2409ef0c147a0a133e9dc79a195ba",
   "display_name": "Python 3.8.1 32-bit"
  }
 },
 "nbformat": 4,
 "nbformat_minor": 2
}