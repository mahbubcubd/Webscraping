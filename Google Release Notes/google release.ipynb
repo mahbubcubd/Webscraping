{
 "cells": [
  {
   "cell_type": "code",
   "execution_count": 1,
   "metadata": {},
   "outputs": [],
   "source": [
    "import pandas as pd\n",
    "import requests as rq\n",
    "from bs4 import BeautifulSoup as BS"
   ]
  },
  {
   "cell_type": "code",
   "execution_count": 2,
   "metadata": {},
   "outputs": [],
   "source": [
    "url=\"https://cloud.google.com/release-notes/all\"\n",
    "page=rq.get(url).content\n",
    "soup=BS(page,'html.parser')"
   ]
  },
  {
   "cell_type": "code",
   "execution_count": 3,
   "metadata": {},
   "outputs": [],
   "source": [
    "services = soup.findAll(\"li\", {\"class\": \"release-note-sitemap-card-item\"})"
   ]
  },
  {
   "cell_type": "code",
   "execution_count": 4,
   "metadata": {},
   "outputs": [
    {
     "output_type": "execute_result",
     "data": {
      "text/plain": "                                          name  \\\n0                      AutoML Natural Language   \n1                                AutoML Tables   \n2                           AutoML Translation   \n3     AutoML Video Intelligence Classification   \n4    AutoML Video Intelligence Object Tracking   \n..                                         ...   \n144                               Web Risk API   \n145                                  Cloud Run   \n146                            Cloud Functions   \n147                              Cloud Storage   \n148                            Cloud Filestore   \n\n                                                   url  \n0    https://cloud.google.com//automl-tables/docs/r...  \n1    https://cloud.google.com//natural-language/aut...  \n2    https://cloud.google.com//translate/automl/doc...  \n3    https://cloud.google.com//video-intelligence/a...  \n4    https://cloud.google.com//video-intelligence/a...  \n..                                                 ...  \n144  https://cloud.google.com//web-risk/docs/releas...  \n145   https://cloud.google.com//run/docs/release-notes  \n146  https://cloud.google.com//functions/docs/relea...  \n147  https://cloud.google.com//storage/docs/release...  \n148  https://cloud.google.com//filestore/docs/relea...  \n\n[149 rows x 2 columns]",
      "text/html": "<div>\n<style scoped>\n    .dataframe tbody tr th:only-of-type {\n        vertical-align: middle;\n    }\n\n    .dataframe tbody tr th {\n        vertical-align: top;\n    }\n\n    .dataframe thead th {\n        text-align: right;\n    }\n</style>\n<table border=\"1\" class=\"dataframe\">\n  <thead>\n    <tr style=\"text-align: right;\">\n      <th></th>\n      <th>name</th>\n      <th>url</th>\n    </tr>\n  </thead>\n  <tbody>\n    <tr>\n      <th>0</th>\n      <td>AutoML Natural Language</td>\n      <td>https://cloud.google.com//automl-tables/docs/r...</td>\n    </tr>\n    <tr>\n      <th>1</th>\n      <td>AutoML Tables</td>\n      <td>https://cloud.google.com//natural-language/aut...</td>\n    </tr>\n    <tr>\n      <th>2</th>\n      <td>AutoML Translation</td>\n      <td>https://cloud.google.com//translate/automl/doc...</td>\n    </tr>\n    <tr>\n      <th>3</th>\n      <td>AutoML Video Intelligence Classification</td>\n      <td>https://cloud.google.com//video-intelligence/a...</td>\n    </tr>\n    <tr>\n      <th>4</th>\n      <td>AutoML Video Intelligence Object Tracking</td>\n      <td>https://cloud.google.com//video-intelligence/a...</td>\n    </tr>\n    <tr>\n      <th>...</th>\n      <td>...</td>\n      <td>...</td>\n    </tr>\n    <tr>\n      <th>144</th>\n      <td>Web Risk API</td>\n      <td>https://cloud.google.com//web-risk/docs/releas...</td>\n    </tr>\n    <tr>\n      <th>145</th>\n      <td>Cloud Run</td>\n      <td>https://cloud.google.com//run/docs/release-notes</td>\n    </tr>\n    <tr>\n      <th>146</th>\n      <td>Cloud Functions</td>\n      <td>https://cloud.google.com//functions/docs/relea...</td>\n    </tr>\n    <tr>\n      <th>147</th>\n      <td>Cloud Storage</td>\n      <td>https://cloud.google.com//storage/docs/release...</td>\n    </tr>\n    <tr>\n      <th>148</th>\n      <td>Cloud Filestore</td>\n      <td>https://cloud.google.com//filestore/docs/relea...</td>\n    </tr>\n  </tbody>\n</table>\n<p>149 rows × 2 columns</p>\n</div>"
     },
     "metadata": {},
     "execution_count": 4
    }
   ],
   "source": [
    "root_url=\"https://cloud.google.com/\"\n",
    "url_pack=[dict(name=i.find(\"h3\").text,url=root_url+i.find(\"a\")[\"href\"]) for i in services]\n",
    "source=pd.DataFrame(url_pack)\n",
    "source"
   ]
  },
  {
   "cell_type": "code",
   "execution_count": 5,
   "metadata": {},
   "outputs": [],
   "source": [
    "si=source['url'][0]"
   ]
  },
  {
   "cell_type": "code",
   "execution_count": 6,
   "metadata": {},
   "outputs": [],
   "source": [
    "si=\"https://cloud.google.com/ai-platform/docs/release-notes\""
   ]
  },
  {
   "cell_type": "code",
   "execution_count": 7,
   "metadata": {},
   "outputs": [],
   "source": [
    "su=BS(rq.get(si).content,'html.parser')"
   ]
  },
  {
   "cell_type": "code",
   "execution_count": 21,
   "metadata": {
    "tags": [
     "outputPrepend"
    ]
   },
   "outputs": [
    {
     "output_type": "stream",
     "name": "stdout",
     "text": "\nApril 29, 2020\nAI Platform Prediction\n\nAI Platform Prediction now supports several regional endpoints for online prediction. Regional endpoints provide additional protection against outages in other regions by isolating your model and version resources from other regions. The following regional endpoints are available in beta:\n\nus-central1-ml.googleapis.com\neurope-west4-ml.googleapis.com\nasia-east1-ml.googleapis.com\n\nYou can use these endpoints instead of the global endpoint, ml.googleapis.com,\n"
    }
   ],
   "source": [
    "releases = su.findAll(\"section\",{\"class\": \"releases\"})[1]\n",
    "print(releases.text[:500])"
   ]
  },
  {
   "cell_type": "code",
   "execution_count": 26,
   "metadata": {},
   "outputs": [
    {
     "output_type": "execute_result",
     "data": {
      "text/plain": "'April_29_2020'"
     },
     "metadata": {},
     "execution_count": 26
    }
   ],
   "source": [
    "dates_of_release = releases.findAll(\"h2\" , attrs= {'tabindex': '0'})\n",
    "dates_of_release[0]['id']"
   ]
  },
  {
   "cell_type": "code",
   "execution_count": 29,
   "metadata": {},
   "outputs": [
    {
     "output_type": "execute_result",
     "data": {
      "text/plain": "['April_29_2020',\n 'April_24_2020',\n 'April_13_2020',\n 'April_09_2020',\n 'April_08_2020']"
     },
     "metadata": {},
     "execution_count": 29
    }
   ],
   "source": [
    "dates_released = []\n",
    "for date in dates_of_release:\n",
    "    dates_released.append(date['id'])\n",
    "dates_released[:5]"
   ]
  },
  {
   "cell_type": "code",
   "execution_count": 30,
   "metadata": {},
   "outputs": [
    {
     "output_type": "execute_result",
     "data": {
      "text/plain": "'AI Platform Prediction'"
     },
     "metadata": {},
     "execution_count": 30
    }
   ],
   "source": [
    "release_descriptions = releases.findAll(\"strong\", class_ = \"release-note-product-title\")\n",
    "release_descriptions[0].text"
   ]
  },
  {
   "cell_type": "code",
   "execution_count": 32,
   "metadata": {},
   "outputs": [
    {
     "output_type": "execute_result",
     "data": {
      "text/plain": "['AI Platform Prediction',\n 'AI Platform Prediction',\n 'AI Platform Prediction',\n 'AI Platform Prediction',\n 'AI Platform Training']"
     },
     "metadata": {},
     "execution_count": 32
    }
   ],
   "source": [
    "releases_desc = []\n",
    "for release_description in release_descriptions:\n",
    "    releases_desc.append(release_description.text)\n",
    "releases_desc[:5]"
   ]
  }
 ],
 "metadata": {
  "kernelspec": {
   "display_name": "Python 3.8.1 32-bit",
   "language": "python",
   "name": "python38132bitd5c2409ef0c147a0a133e9dc79a195ba"
  },
  "language_info": {
   "codemirror_mode": {
    "name": "ipython",
    "version": 3
   },
   "file_extension": ".py",
   "mimetype": "text/x-python",
   "name": "python",
   "nbconvert_exporter": "python",
   "pygments_lexer": "ipython3",
   "version": "3.8.1-final"
  }
 },
 "nbformat": 4,
 "nbformat_minor": 2
}